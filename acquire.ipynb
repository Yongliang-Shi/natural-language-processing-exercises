{
 "cells": [
  {
   "cell_type": "code",
   "execution_count": 1,
   "metadata": {},
   "outputs": [],
   "source": [
    "# Import libraries\n",
    "\n",
    "import numpy as np\n",
    "import pandas as pd\n",
    "\n",
    "from requests import get\n",
    "import re\n",
    "from bs4 import BeautifulSoup\n",
    "\n",
    "import os"
   ]
  },
  {
   "cell_type": "markdown",
   "metadata": {},
   "source": [
    "### Exercises\n",
    "\n",
    "By the end of this exercise, you should have a file named **acquire.py** that contains the specified functions. If you wish, you may break your work into separate files for each website (e.g. acquire_codeup_blog.py and acquire_news_articles.py), but the end function should be present in acquire.py (that is, acquire.py should import get_blog_articles from the acquire_codeup_blog module.)"
   ]
  },
  {
   "cell_type": "markdown",
   "metadata": {},
   "source": [
    "### 1. Codeup Blog Articles\n",
    "\n",
    "Scrape the article text from the following pages:\n",
    "\n",
    "- https://codeup.com/codeups-data-science-career-accelerator-is-here/\n",
    "- https://codeup.com/data-science-myths/\n",
    "- https://codeup.com/data-science-vs-data-analytics-whats-the-difference/\n",
    "- https://codeup.com/10-tips-to-crush-it-at-the-sa-tech-job-fair/\n",
    "- https://codeup.com/competitor-bootcamps-are-closing-is-the-model-in-danger/\n",
    "\n",
    "Encapsulate your work in a function named get_blog_articles that will return a list of dictionaries, with each dictionary representing one article. The shape of each dictionary should look like this:"
   ]
  },
  {
   "cell_type": "code",
   "execution_count": 2,
   "metadata": {},
   "outputs": [
    {
     "data": {
      "text/plain": [
       "5"
      ]
     },
     "execution_count": 2,
     "metadata": {},
     "output_type": "execute_result"
    }
   ],
   "source": [
    "# Create a list of urls\n",
    "\n",
    "urls = ['https://codeup.com/codeups-data-science-career-accelerator-is-here/', \n",
    "        'https://codeup.com/data-science-myths/', \n",
    "        'https://codeup.com/data-science-vs-data-analytics-whats-the-difference/', \n",
    "        'https://codeup.com/10-tips-to-crush-it-at-the-sa-tech-job-fair/', \n",
    "        'https://codeup.com/competitor-bootcamps-are-closing-is-the-model-in-danger/']\n",
    "\n",
    "# Print the length\n",
    "len(urls)"
   ]
  },
  {
   "cell_type": "code",
   "execution_count": 4,
   "metadata": {
    "scrolled": false
   },
   "outputs": [
    {
     "data": {
      "text/plain": [
       "[{'title': 'Codeup’s Data Science Career Accelerator is Here!',\n",
       "  'content': 'The rumors are true! The time has arrived. Codeup has officially opened applications to our new Data Science career accelerator, with only 25 seats available! This immersive program is one of a kind in San Antonio, and will help you land a job in\\xa0Glassdoor’s #1 Best Job in America.\\nData Science is a method of providing actionable intelligence from data.\\xa0The data revolution has hit San Antonio,\\xa0resulting in an explosion in Data Scientist positions\\xa0across companies like USAA, Accenture, Booz Allen Hamilton, and HEB. We’ve even seen\\xa0UTSA invest $70 M for a Cybersecurity Center and School of Data Science.\\xa0We built a program to specifically meet the growing demands of this industry.\\nOur program will be 18 weeks long, full-time, hands-on, and project-based. Our curriculum development and instruction is led by Senior Data Scientist, Maggie Giust, who has worked at HEB, Capital Group, and Rackspace, along with input from dozens of practitioners and hiring partners. Students will work with real data sets, realistic problems, and the entire data science pipeline from collection to deployment. They will receive professional development training in resume writing, interviewing, and continuing education to prepare for a smooth transition to the workforce.\\nWe focus on applied data science for immediate impact and ROI in a business, which is how we can back it all up with a 6 month tuition refund guarantee – just like our existing Web Dev program. We’re focusing on Data Science with Python, SQL, and ML, covered in\\xa014 modules: 1) Fundamentals; 2) Applied statistics; 3) SQL; 4) Python; 5) Supervised machine learning – regression; 6) Supervised machine learning – classification; 7) Unsupervised machine learning – clustering; 8) Time series analysis; 9) Anomaly detection; 10) Natural language processing; 11) Distributed machine learning; 12) Advanced topics (deep learning, NoSQL, cloud deployment, etc.); 13) Storytelling with data; and 14) Domain expertise development.\\nApplications are now open\\xa0for Codeup’s first Data Science cohort, which will start class on February 4, 2019. Hurry – there are only 25 seats available! To further our mission of cultivating inclusive growth, scholarships will be available to women, minorities, LGBTQIA+ individuals, veterans, first responders, and people relocating to San Antonio.\\nIf you want to learn about joining our program or hiring our graduates, email datascience@codeup.com!\\n\\n'},\n",
       " {'title': 'Data Science Myths',\n",
       "  'content': 'By Dimitri Antoniou and Maggie Giust\\nData Science, Big Data, Machine Learning, NLP, Neural Networks…these buzzwords have rapidly spread into mainstream use over the last few years. Unfortunately, definitions are varied and sources of truth are limited. Data Scientists are in fact not magical unicorn wizards who can snap their fingers and turn a business around! Today, we’ll take a cue from our favorite Mythbusters to tackle some common myths and misconceptions in the field of Data Science.\\n\\nvia GIPHY\\nMyth #1: Data Science = Statistics\\nAt first glance, this one doesn’t sound unreasonable. Statistics is defined as, “A branch of mathematics dealing with the collection, analysis, interpretation, and presentation of masses of numerical data.” That sounds a lot like our definition of Data Science: a method of drawing actionable intelligence from data. \\nIn truth, statistics is actually one small piece of Data Science. As our Senior Data Scientist puts it, “Statistics forces us to make assumptions about the nature of the relationship between variables, the distribution of the data, etc.” In the traditional Data Science venn diagram, you’ll see that math/stats make up ⅓ of a working professional. These are tools and skills to leverage, but data science itself is about drawing intelligence from data.\\nBUSTED\\n\\nvia GIPHY\\n\\xa0\\nMyth #2: Data Scientist = Business/Data Analyst\\nThis one is so common that we wrote a whole post about it! These are separate and different roles within the data field. While a data scientist will often do analytics, their spectrum of work is wider. A data analyst will use structured data to create dashboards and KPIs, while a Data Scientist deals with unstructured and messy data for a range of outputs. If they’re interested, business analysts will often progress to data scientists.\\nBUSTED\\n\\nvia GIPHY\\n\\xa0\\nMyth #3: Data Science = Data Science\\nThis one’s tricky, because it’s impossible to either confirm or bust! The ‘myth’ is that one person or company using the term Data Science is not necessarily the same as another person or company using the same term. Depending on organizational capacity, individual experience, educational background, and many other variables, we might be using the same name for different animals.\\nTl;dr: don’t assume a common understanding across hiring managers, recruiters, and practitioners. Look instead for specifics of tools, techniques, methodologies, and outputs. That being said, this one falls in the “plausible” category, because it may actually be true in some circumstances, while false in others.\\nPLAUSIBLE\\n\\nvia GIPHY\\n\\xa0\\nMyth #4: Data Science curricula are well-defined and consistent.\\nWe recommend checking this one out for yourself! A quick google search for bootcamps, master’s degree programs, and online courses will reveal that different organizations teach different things. There is no commonly accepted framework for teaching data science! Some focus more on the engineering, others focus more on machine learning, some think deep learning is foundational, and some prefer to use R. \\nOur curriculum was built through employer interviews, practitioner interviews, market research, and company partnerships. But we’re based in San Antonio! A bootcamp in New York might follow the same process and end up with a different syllabus. Keep in mind, whatever your learning path, that there will be gaps in your learning. The most important thing is to recognize those gaps.\\nBUSTED\\n\\nvia GIPHY\\n\\xa0\\nMyth #5: If I want to be a data scientist, I just need to learn Python or R.\\nThis one is common and dangerous! Just like statistics, programming languages like Python and R are tools. They’re just pieces of a larger puzzle! Knowing Python without understanding the data science pipeline is like knowing how to build a floor without having a floor plan. Of course, these are valuable technical skills that give you a leg up, but they’re second in importance to asking the right questions, knowing what tools to use when, and communicating your findings.\\nBUSTED\\n\\nvia GIPHY\\nStill have questions? Reach out to us! We’re always here to help.\\n\\n'},\n",
       " {'title': 'Data Science VS Data Analytics: What’s The Difference?',\n",
       "  'content': 'By Dimitri Antoniou\\nA week ago, Codeup launched our immersive Data Science career accelerator! With our first-class kicking off in February and only 25 seats available, we’ve been answering a lot of questions from prospective students. One, in particular, has come up so many times we decided to dedicate a blog post to it. What is the difference between data science and data analytics?\\nFirst, let’s define some of our terms! Take a look at this blog to understand what Data Science is. In short, it is a method of turning raw data into action, leading to the desired outcome. Big Data refers to data sets that are large and complex, usually exceeding the capacity of computers and normal processing power to deal with. Machine Learning is the process of ‘learning’ underlying patterns of data in order to automate the extraction of intelligence from that data.\\n\\xa0\\n\\xa0\\nNow, let’s look at the data pipeline that data scientists work through to reach the actionable insights and outcomes we mentioned:\\n\\nWe start by collecting data, which may come from social media channels, network logs, financials, employee records, or more.\\nWe then process that data into usable information stored in databases or streamed.\\nNext, we look back on the history of that data to summarize, describe, and explain, turning the data into meaningful knowledge. Here we’re primarily using mathematics, statistics, and visualization methods.\\nNow we convert that knowledge into intelligence, seeking to predict future events so that we can make decisions in the present. This is where practitioners will introduce mathematical/statistical modeling through machine learning to their data.\\nFinally, we enable action by building automations, running tests, building visualizations, monitoring new data, etc.\\n\\nData professionals work at different stages of the spectrum to move data through the pipeline. On the left, Big Data Engineers specialize in collecting, storing, and processing data, getting it from Data to Information. In the middle, analysts work to understand and convert that information to knowledge. Lastly, a Machine Learning Engineer utilizes machine learning algorithms to turn intelligence into action by building automations, visualizations, recommendations, and predictions.\\nData Scientists span multiple stages of this pipeline, from information to action. They will spend about 70% of their time wrangling data in the information stage. They will conduct a statistical analysis to derive knowledge. Lastly, they predict future events and build automations using machine learning.\\nFor those technical folk out there, data science is to data engineering or machine learning engineering as full-stack development is to front-end or back-end development. For the non-technical folk, data science is the umbrella term that houses data analytics, machine learning, and other data professions.\\nSo what’s the biggest difference between a data analyst and a data scientist? Data scientists utilize computer programming and machine learning in addition to mathematics and statistics. \\nStill have questions? Reach out to us.\\xa0Wondering which of Codeup’s programs is right for you? We’ve got you covered. And of course, if data science gets you excited, get started with us today!\\n\\n'},\n",
       " {'title': '10 Tips to Crush It at the SA Tech Job Fair',\n",
       "  'content': 'SA Tech Job Fair\\nThe third bi-annual San Antonio Tech Job Fair is just around the corner. Over 25 companies will be at The Jack Guenther Pavilion\\xa0on April 10th, and they are hungry for new tech team members!\\nAt the job fair, companies want to quickly source a list of new talent leads. AKA they need to find qualified employees they can begin interviewing for jobs. Recruiters will represent their organization at tables with informational handouts and company swag. Your goal at a job fair is to set yourself apart from other candidates and ensure your name makes it to the top of those lead lists.\\nThink of your interaction with the company as a mini screening interview. The company rep will subtly evaluate basic qualities like your professionalism, communication and interpersonal skills, work experience, and interest level in the organization. Job fairs are also an opportunity for you to gain information about companies that may not be easily accessible online. \\xa0\\nAt Codeup, we’re passionate about bridging the gap between talent and demand, so we’ve outlined 10 tips to ensure you bring your A-game and leave a lasting impression!\\n10 Tips for Totally Crushing it at the SA Tech Job Fair\\n\\nUse keywords to describe your skills, but don’t go overboard. You’ll probably be talking to a recruiter or talent acquisition specialist. As a technical candidate, recognize these individuals usually aren’t developers or network administrators. They know terms like “JavaScript” and “Apache,” but haven’t written a line of code or spun up a server, so don’t get too caught up in industry jargon.\\nResearch the companies ahead of time. Review the list of attending companies and make sure you know what the company does and whether or not they hire people in your desired role. Look up recent news on the company and mention it during your conversation.\\nDefine your own goals for the job fair. Are you searching for a specific type of role or company culture? What matters most in your job search? Are there companies you want to prioritize? \\xa0Develop a game plan and be intentional with your time.\\nPrepare a stellar résumé. Bring about 20 copies of your résumé to the event, printed on nice paper. We won’t cover resume writing in this post, but there are a plethora of online resources you can consult. For job fairs, don’t worry about cover letters.\\nPolish your online profiles. If recruiters have a copy of your resume, you can be sure they will stalk you online soon. Make sure your online presence is professional and appropriate. A good place to start is by Googling yourself. Update your LinkedIn, and clean up any social media profiles.\\nCraft a 30-60 second elevator pitch. You may only have a few minutes with an employer. What will you say if they ask, “Tell me about yourself?” Consider structuring your pitch like this: Who you are + What you do + What your goals are + Why that matters to the company.\\nDon’t show up in a t-shirt, but trade in your suit for something more chill. Always keep it professional, but remember: tech is typically more casual than other industries. You’ll likely feel out of place if you look like you belong on Wall St., so refer to this guide on dressing for tech interviews.\\nDon’t forget the basics. Start and end each conversation with a firm handshake. Make eye contact while conversing. Smile! Thank the recruiter before you move on to the next table.\\nAsk educated questions. Don’t waste valuable face time with recruiters by asking questions like, “What does [Insert Company here] do?” They hate that question! Instead, try some of these:\\n\\nWhat are the top 3-5 examples of knowledge, skills, and abilities you look for in candidates?\\nWhat’s the best advice you have for someone who wants to work here?\\nWhat is your interview process like?\\nAre you hiring for any roles not currently listed on your websites?\\n\\n\\nFollow up. Collect business cards from each table. The next day, send a short note expressing your interest in the company’s opportunities and thanking the recruiter for his or her time.\\n\\nRSVP for the SA Tech Job Fair taking place at the Jack Guenther Pavilion – September 18th starting at 4 pm.\\xa0\\n\\n'},\n",
       " {'title': 'Competitor Bootcamps Are Closing. Is the Model in Danger?',\n",
       "  'content': 'Competitor Bootcamps Are Closing. Is the Model in Danger?\\n\\xa0\\n\\nIs the programming bootcamp model in danger?\\nIn recent news, DevBootcamp and The Iron Yard announced that they are closing their doors. This is big news. DevBootcamp was the first programming bootcamp model and The Iron Yard is a national player with 15 campuses across the U.S. In both cases, the companies cited an unsustainable business model. Does that mean the boot-camp model is dead?\\n\\ntl;dr “Nope!”\\nBootcamps exist because traditional education models have failed to provide students job-ready skills for the 21st century. Students demand better employment options from their education. Employers demand skilled and job ready candidates. Big Education’s failure to meet those needs through traditional methods created the fertile ground for the new business model of the programming bootcamp.\\nEducation giant Kaplan and Apollo Education Group (owner of University of Phoenix) bought their way into this new educational model when they purchased The Iron Yard and DevBootcamp. They purchased their competition with the intent to scale up the model. Unfortunately, Big Education is too habituated to coming up short for students. They bought the upstarts that challenged them, tried making changes to run those bootcamps in the “Big Education” way, and, sadly, they’ve closed the doors when they realized that scaling education is more challenging when student outcomes truly matter.\\nThe bootcamp model is still new and there will be plenty consolidation, competition, and changes in the future. This model is based on actually being adaptive, innovative, and sustainable. And there’s always room for innovation.\\n\\n\\nWhat we’ve learned at Codeup…\\n\\n\\nEducation is challenging to scale.\\nPrioritizing quality over growth pays off.\\n\\nWhat we’re doing at Codeup…\\n\\nHigher standards in our application process are leading to better student outcomes.\\nOur reputation and commitment to quality is opening new doors to previously uninterested/unreachable employers.\\nIn the beginning, the majority of Codeup graduates went to work with startups and small businesses. We’re now seeing a larger amount of our graduates place at medium to large sized businesses.\\nDemand is growing and employers are learning that the results are in the graduates.\\nCodeup’s model is sustainable, inclusive, and works.\\n\\nCall or contact us today to see how Codeup’s commitment to quality and approach to being a career accelerator can make a profound difference in your life.\\n\\n'}]"
      ]
     },
     "execution_count": 4,
     "metadata": {},
     "output_type": "execute_result"
    }
   ],
   "source": [
    "# Create an empty list\n",
    "blog_articles = []\n",
    "\n",
    "# For Loop the urls to subtract the title and content\n",
    "\n",
    "for url in urls:\n",
    "    headers = {'User-Agent': 'Codeup Data Science'}\n",
    "    \n",
    "    # Use response.content to make the soup object\n",
    "    response = get(url, headers=headers)\n",
    "    \n",
    "    # Create the soup object by passing the HTML string and choice of parser.\n",
    "    soup = BeautifulSoup(response.content, 'html.parser')\n",
    "    \n",
    "    # The h1 element holds the title\n",
    "    title = soup.find('h1', class_='jupiterx-post-title')\n",
    "    \n",
    "    # Grab the text from page\n",
    "    content = soup.find('div', class_='jupiterx-post-content')\n",
    "    \n",
    "    # Store the title and text in a dictionary\n",
    "    d = {'title': title.text, 'content': content.text}\n",
    "    \n",
    "    # Append the dictionary to the list\n",
    "    blog_articles.append(d)\n",
    "    \n",
    "    # Convert the list of dicts to a dataframe\n",
    "    df = pd.DataFrame(blog_articles)\n",
    "    \n",
    "    # Write the df to a json file for faster access\n",
    "    df.to_json('codeup_blogs.json')\n",
    "\n",
    "blog_articles"
   ]
  },
  {
   "cell_type": "markdown",
   "metadata": {},
   "source": [
    "#### Build the Helper Functions"
   ]
  },
  {
   "cell_type": "code",
   "execution_count": 3,
   "metadata": {},
   "outputs": [],
   "source": [
    "# Create a helper functioin that requests and parse HTML returning a soup object\n",
    "\n",
    "def make_soup(url):\n",
    "    '''\n",
    "    This helper function takes in a url and requests and parses HTML\n",
    "    returning a soup object\n",
    "    '''\n",
    "    headers = {'User-Agent': 'Codeup Data Science'}\n",
    "    response = get(url, headers=headers)\n",
    "    soup = BeautifulSoup(response.content, 'html.parser')\n",
    "    \n",
    "    return soup"
   ]
  },
  {
   "cell_type": "code",
   "execution_count": 4,
   "metadata": {},
   "outputs": [],
   "source": [
    "def acquire_codeup_blogs(urls, cached=False):\n",
    "    '''\n",
    "    This function takes in a list of Codeup Blog urls and a parameter with default cashed == False.\n",
    "    It scrapes the title and text for each url, creates a list of dictionaries with title and tex for each blog,\n",
    "    creates a list of dictionaries, converts list to df, and returns df\n",
    "    If cached == True, the function returns a dataframe from a json file.     \n",
    "    '''\n",
    "    if cached == True:\n",
    "        df = pd.read_json('codeup_blogs.json') # cached == False completes a fresh scrape for df. \n",
    "    else:\n",
    "        \n",
    "        blog_articles = []\n",
    "        \n",
    "        for url in urls:\n",
    "            soup = make_soup(url)\n",
    "            title = soup.find('h1', class_='jupiterx-post-title')\n",
    "            content = soup.find('div', class_='jupiterx-post-content')\n",
    "            d = {'title': title.text, 'content': content.text}\n",
    "            blog_articles.append(d)\n",
    "        \n",
    "        df = pd.DataFrame(blog_articles)\n",
    "        df.to_json('codeup_blogs.json')\n",
    "    \n",
    "    return df"
   ]
  },
  {
   "cell_type": "code",
   "execution_count": 7,
   "metadata": {},
   "outputs": [
    {
     "data": {
      "text/html": [
       "<div>\n",
       "<style scoped>\n",
       "    .dataframe tbody tr th:only-of-type {\n",
       "        vertical-align: middle;\n",
       "    }\n",
       "\n",
       "    .dataframe tbody tr th {\n",
       "        vertical-align: top;\n",
       "    }\n",
       "\n",
       "    .dataframe thead th {\n",
       "        text-align: right;\n",
       "    }\n",
       "</style>\n",
       "<table border=\"1\" class=\"dataframe\">\n",
       "  <thead>\n",
       "    <tr style=\"text-align: right;\">\n",
       "      <th></th>\n",
       "      <th>title</th>\n",
       "      <th>content</th>\n",
       "    </tr>\n",
       "  </thead>\n",
       "  <tbody>\n",
       "    <tr>\n",
       "      <th>0</th>\n",
       "      <td>Codeup’s Data Science Career Accelerator is Here!</td>\n",
       "      <td>The rumors are true! The time has arrived. Cod...</td>\n",
       "    </tr>\n",
       "    <tr>\n",
       "      <th>1</th>\n",
       "      <td>Data Science Myths</td>\n",
       "      <td>By Dimitri Antoniou and Maggie Giust\\nData Sci...</td>\n",
       "    </tr>\n",
       "    <tr>\n",
       "      <th>2</th>\n",
       "      <td>Data Science VS Data Analytics: What’s The Dif...</td>\n",
       "      <td>By Dimitri Antoniou\\nA week ago, Codeup launch...</td>\n",
       "    </tr>\n",
       "    <tr>\n",
       "      <th>3</th>\n",
       "      <td>10 Tips to Crush It at the SA Tech Job Fair</td>\n",
       "      <td>SA Tech Job Fair\\nThe third bi-annual San Anto...</td>\n",
       "    </tr>\n",
       "    <tr>\n",
       "      <th>4</th>\n",
       "      <td>Competitor Bootcamps Are Closing. Is the Model...</td>\n",
       "      <td>Competitor Bootcamps Are Closing. Is the Model...</td>\n",
       "    </tr>\n",
       "  </tbody>\n",
       "</table>\n",
       "</div>"
      ],
      "text/plain": [
       "                                               title  \\\n",
       "0  Codeup’s Data Science Career Accelerator is Here!   \n",
       "1                                 Data Science Myths   \n",
       "2  Data Science VS Data Analytics: What’s The Dif...   \n",
       "3        10 Tips to Crush It at the SA Tech Job Fair   \n",
       "4  Competitor Bootcamps Are Closing. Is the Model...   \n",
       "\n",
       "                                             content  \n",
       "0  The rumors are true! The time has arrived. Cod...  \n",
       "1  By Dimitri Antoniou and Maggie Giust\\nData Sci...  \n",
       "2  By Dimitri Antoniou\\nA week ago, Codeup launch...  \n",
       "3  SA Tech Job Fair\\nThe third bi-annual San Anto...  \n",
       "4  Competitor Bootcamps Are Closing. Is the Model...  "
      ]
     },
     "execution_count": 7,
     "metadata": {},
     "output_type": "execute_result"
    }
   ],
   "source": [
    "# Test the functions\n",
    "\n",
    "codeup_blogs = acquire_codeup_blogs(urls)\n",
    "codeup_blogs"
   ]
  },
  {
   "cell_type": "markdown",
   "metadata": {},
   "source": [
    "### Bonus URL Scrape"
   ]
  },
  {
   "cell_type": "code",
   "execution_count": 9,
   "metadata": {},
   "outputs": [
    {
     "data": {
      "text/plain": [
       "bs4.BeautifulSoup"
      ]
     },
     "execution_count": 9,
     "metadata": {},
     "output_type": "execute_result"
    }
   ],
   "source": [
    "# Hit codeup's main blog page to scrape the urls. \n",
    "\n",
    "url = 'https://codeup.com/resources/#blog'\n",
    "soup = make_soup(url)\n",
    "type(soup)"
   ]
  },
  {
   "cell_type": "code",
   "execution_count": 11,
   "metadata": {},
   "outputs": [
    {
     "name": "stdout",
     "output_type": "stream",
     "text": [
      "<class 'bs4.element.Tag'>\n"
     ]
    },
    {
     "data": {
      "text/plain": [
       "<a class=\"jet-listing-dynamic-link__link\" href=\"https://codeup.com/introducing-salary-refund-guarantee/\"><span class=\"jet-listing-dynamic-link__label\">Introducing Our Salary Refund Guarantee</span></a>"
      ]
     },
     "execution_count": 11,
     "metadata": {},
     "output_type": "execute_result"
    }
   ],
   "source": [
    "# Filter my soup to return a list of all anchor elements from my HTML\n",
    "urls_list = soup.find_all('a', class_='jet-listing-dynamic-link__link')\n",
    "\n",
    "# Print the type of the element\n",
    "print(type(urls_list[0]))\n",
    "\n",
    "# Take a peek at the urls_list\n",
    "urls_list[0]"
   ]
  },
  {
   "cell_type": "code",
   "execution_count": 14,
   "metadata": {
    "scrolled": true
   },
   "outputs": [
    {
     "data": {
      "text/plain": [
       "40"
      ]
     },
     "execution_count": 14,
     "metadata": {},
     "output_type": "execute_result"
    }
   ],
   "source": [
    "# Filter the href attribute value for each anchor element in my list\n",
    "# 40 urls are scraped. \n",
    "# Duplicates exit\n",
    "\n",
    "urls = [url.get('href') for url in urls_list]\n",
    "len(urls)"
   ]
  },
  {
   "cell_type": "code",
   "execution_count": 15,
   "metadata": {},
   "outputs": [
    {
     "data": {
      "text/plain": [
       "20"
      ]
     },
     "execution_count": 15,
     "metadata": {},
     "output_type": "execute_result"
    }
   ],
   "source": [
    "# Use the set comprehension to return only unique urls\n",
    "\n",
    "urls = {url.get('href') for url in urls_list}\n",
    "len(urls)"
   ]
  },
  {
   "cell_type": "code",
   "execution_count": 16,
   "metadata": {},
   "outputs": [
    {
     "name": "stdout",
     "output_type": "stream",
     "text": [
      "There are 20 unique urls in the list)\n"
     ]
    },
    {
     "data": {
      "text/plain": [
       "['https://codeup.com/journey-into-web-development/',\n",
       " 'https://codeup.com/codeup-wins-civtech-datathon/',\n",
       " 'https://codeup.com/new-scholarship/',\n",
       " 'https://codeup.com/codeup-alumni-make-water/',\n",
       " 'https://codeup.com/introducing-salary-refund-guarantee/',\n",
       " 'https://codeup.com/codeup-inc-5000/',\n",
       " 'https://codeup.com/succeed-in-a-coding-bootcamp/',\n",
       " 'https://codeup.com/how-were-celebrating-world-mental-health-day-from-home/',\n",
       " 'https://codeup.com/what-data-science-career-is-for-you/',\n",
       " 'https://codeup.com/transition-into-data-science/',\n",
       " 'https://codeup.com/codeup-in-houston/',\n",
       " 'https://codeup.com/from-slacker-to-data-scientist/',\n",
       " 'https://codeup.com/covid-19-data-challenge/',\n",
       " 'https://codeup.com/what-is-python/',\n",
       " 'https://codeup.com/codeups-application-process/',\n",
       " 'https://codeup.com/what-is-machine-learning/',\n",
       " 'https://codeup.com/math-in-data-science/',\n",
       " 'https://codeup.com/what-to-expect-at-codeup/',\n",
       " 'https://codeup.com/build-your-career-in-tech/',\n",
       " 'https://codeup.com/education-is-an-investment/']"
      ]
     },
     "execution_count": 16,
     "metadata": {},
     "output_type": "execute_result"
    }
   ],
   "source": [
    "# Convert the set to a list\n",
    "\n",
    "urls = list(urls)\n",
    "print(f'There are {len(urls)} unique urls in the list)')\n",
    "urls"
   ]
  },
  {
   "cell_type": "markdown",
   "metadata": {},
   "source": [
    "#### Build the Helper Function"
   ]
  },
  {
   "cell_type": "code",
   "execution_count": 17,
   "metadata": {},
   "outputs": [],
   "source": [
    "def get_blog_urls():\n",
    "    '''\n",
    "    This function scrapes all of the Codeup blog urls from the main Codeup blog page\n",
    "    Returning a list of urls\n",
    "    '''\n",
    "    base_url = 'https://codeup.com/resources/#blog' \n",
    "    soup = make_soup(base_url)\n",
    "    urls_list = soup.find_all('a', class_='jet-listing-dynamic-link__link')\n",
    "    urls = {url.get('href') for url in urls_list}\n",
    "    urls = list(urls)\n",
    "    \n",
    "    return urls"
   ]
  },
  {
   "cell_type": "code",
   "execution_count": 18,
   "metadata": {},
   "outputs": [
    {
     "data": {
      "text/plain": [
       "(20, 2)"
      ]
     },
     "execution_count": 18,
     "metadata": {},
     "output_type": "execute_result"
    }
   ],
   "source": [
    "# Now test the function\n",
    "# cached == False does a fresh scrape.\n",
    "\n",
    "all_blogs = acquire_codeup_blogs(urls=get_blog_urls())\n",
    "\n",
    "# Print the shape\n",
    "all_blogs.shape"
   ]
  },
  {
   "cell_type": "code",
   "execution_count": 19,
   "metadata": {},
   "outputs": [
    {
     "data": {
      "text/html": [
       "<div>\n",
       "<style scoped>\n",
       "    .dataframe tbody tr th:only-of-type {\n",
       "        vertical-align: middle;\n",
       "    }\n",
       "\n",
       "    .dataframe tbody tr th {\n",
       "        vertical-align: top;\n",
       "    }\n",
       "\n",
       "    .dataframe thead th {\n",
       "        text-align: right;\n",
       "    }\n",
       "</style>\n",
       "<table border=\"1\" class=\"dataframe\">\n",
       "  <thead>\n",
       "    <tr style=\"text-align: right;\">\n",
       "      <th></th>\n",
       "      <th>title</th>\n",
       "      <th>content</th>\n",
       "    </tr>\n",
       "  </thead>\n",
       "  <tbody>\n",
       "    <tr>\n",
       "      <th>0</th>\n",
       "      <td>Alumni Share their Journey into Web Development</td>\n",
       "      <td>Everyone starts somewhere. Many developers out...</td>\n",
       "    </tr>\n",
       "    <tr>\n",
       "      <th>1</th>\n",
       "      <td>Codeup Grads Win CivTech Datathon</td>\n",
       "      <td>Many Codeup alumni enjoy competing in hackatho...</td>\n",
       "    </tr>\n",
       "    <tr>\n",
       "      <th>2</th>\n",
       "      <td>Announcing: The Annie Easley Scholarship to Su...</td>\n",
       "      <td>We have an exciting announcement! We’re launch...</td>\n",
       "    </tr>\n",
       "    <tr>\n",
       "      <th>3</th>\n",
       "      <td>How Codeup Alumni are Helping to Make Water</td>\n",
       "      <td>Imagine having a kit mailed to you with all th...</td>\n",
       "    </tr>\n",
       "    <tr>\n",
       "      <th>4</th>\n",
       "      <td>Introducing Our Salary Refund Guarantee</td>\n",
       "      <td>Here at Codeup, we believe it’s time to revolu...</td>\n",
       "    </tr>\n",
       "  </tbody>\n",
       "</table>\n",
       "</div>"
      ],
      "text/plain": [
       "                                               title  \\\n",
       "0    Alumni Share their Journey into Web Development   \n",
       "1                  Codeup Grads Win CivTech Datathon   \n",
       "2  Announcing: The Annie Easley Scholarship to Su...   \n",
       "3        How Codeup Alumni are Helping to Make Water   \n",
       "4            Introducing Our Salary Refund Guarantee   \n",
       "\n",
       "                                             content  \n",
       "0  Everyone starts somewhere. Many developers out...  \n",
       "1  Many Codeup alumni enjoy competing in hackatho...  \n",
       "2  We have an exciting announcement! We’re launch...  \n",
       "3  Imagine having a kit mailed to you with all th...  \n",
       "4  Here at Codeup, we believe it’s time to revolu...  "
      ]
     },
     "execution_count": 19,
     "metadata": {},
     "output_type": "execute_result"
    }
   ],
   "source": [
    "# Take a peek at the df\n",
    "all_blogs.head()"
   ]
  },
  {
   "cell_type": "code",
   "execution_count": 22,
   "metadata": {},
   "outputs": [
    {
     "data": {
      "text/html": [
       "<div>\n",
       "<style scoped>\n",
       "    .dataframe tbody tr th:only-of-type {\n",
       "        vertical-align: middle;\n",
       "    }\n",
       "\n",
       "    .dataframe tbody tr th {\n",
       "        vertical-align: top;\n",
       "    }\n",
       "\n",
       "    .dataframe thead th {\n",
       "        text-align: right;\n",
       "    }\n",
       "</style>\n",
       "<table border=\"1\" class=\"dataframe\">\n",
       "  <thead>\n",
       "    <tr style=\"text-align: right;\">\n",
       "      <th></th>\n",
       "      <th>title</th>\n",
       "      <th>content</th>\n",
       "    </tr>\n",
       "  </thead>\n",
       "  <tbody>\n",
       "    <tr>\n",
       "      <th>0</th>\n",
       "      <td>Alumni Share their Journey into Web Development</td>\n",
       "      <td>Everyone starts somewhere. Many developers out...</td>\n",
       "    </tr>\n",
       "    <tr>\n",
       "      <th>1</th>\n",
       "      <td>Codeup Grads Win CivTech Datathon</td>\n",
       "      <td>Many Codeup alumni enjoy competing in hackatho...</td>\n",
       "    </tr>\n",
       "    <tr>\n",
       "      <th>2</th>\n",
       "      <td>Announcing: The Annie Easley Scholarship to Su...</td>\n",
       "      <td>We have an exciting announcement! We’re launch...</td>\n",
       "    </tr>\n",
       "    <tr>\n",
       "      <th>3</th>\n",
       "      <td>How Codeup Alumni are Helping to Make Water</td>\n",
       "      <td>Imagine having a kit mailed to you with all th...</td>\n",
       "    </tr>\n",
       "    <tr>\n",
       "      <th>4</th>\n",
       "      <td>Introducing Our Salary Refund Guarantee</td>\n",
       "      <td>Here at Codeup, we believe it’s time to revolu...</td>\n",
       "    </tr>\n",
       "  </tbody>\n",
       "</table>\n",
       "</div>"
      ],
      "text/plain": [
       "                                               title  \\\n",
       "0    Alumni Share their Journey into Web Development   \n",
       "1                  Codeup Grads Win CivTech Datathon   \n",
       "2  Announcing: The Annie Easley Scholarship to Su...   \n",
       "3        How Codeup Alumni are Helping to Make Water   \n",
       "4            Introducing Our Salary Refund Guarantee   \n",
       "\n",
       "                                             content  \n",
       "0  Everyone starts somewhere. Many developers out...  \n",
       "1  Many Codeup alumni enjoy competing in hackatho...  \n",
       "2  We have an exciting announcement! We’re launch...  \n",
       "3  Imagine having a kit mailed to you with all th...  \n",
       "4  Here at Codeup, we believe it’s time to revolu...  "
      ]
     },
     "execution_count": 22,
     "metadata": {},
     "output_type": "execute_result"
    }
   ],
   "source": [
    "# cached == True reads in a dataframe from 'codeup_blogs.json'\n",
    "\n",
    "all_blogs = acquire_codeup_blogs(urls=get_blog_urls(), cached=True)\n",
    "all_blogs.head()"
   ]
  },
  {
   "cell_type": "markdown",
   "metadata": {},
   "source": [
    "### 2. News Articles\n",
    "\n",
    "We will now be scraping text data from inshorts, a website that provides a brief overview of many different topics.\n",
    "\n",
    "Write a function that scrapes the news articles for the following topics:\n",
    "\n",
    "- Business\n",
    "- Sports\n",
    "- Technology\n",
    "- Entertainment\n",
    "\n",
    "The end product of this should be a function named **get_news_articles that returns a list of dictionaries**, where each dictionary has this shape:"
   ]
  },
  {
   "cell_type": "code",
   "execution_count": 10,
   "metadata": {},
   "outputs": [
    {
     "data": {
      "text/plain": [
       "bs4.BeautifulSoup"
      ]
     },
     "execution_count": 10,
     "metadata": {},
     "output_type": "execute_result"
    }
   ],
   "source": [
    "# Make the soup object using helper function\n",
    "\n",
    "url = 'https://inshorts.com/en/read/entertainment'\n",
    "soup = make_soup(url)\n",
    "\n",
    "# Print the dtype\n",
    "type(soup)"
   ]
  },
  {
   "cell_type": "markdown",
   "metadata": {},
   "source": [
    "### Scrape news cards from entertainment main page"
   ]
  },
  {
   "cell_type": "code",
   "execution_count": 12,
   "metadata": {},
   "outputs": [
    {
     "name": "stdout",
     "output_type": "stream",
     "text": [
      "There are 24 news cards on this page.\n"
     ]
    },
    {
     "data": {
      "text/plain": [
       "<div class=\"news-card z-depth-1\" itemscope=\"\" itemtype=\"http://schema.org/NewsArticle\">\n",
       "<span content=\"\" itemid=\"https://inshorts.com/en/news/twinkle-posts-pic-of-mela-villains-poster-says-movie-left-mark-or-scar-on-me-1605594707888\" itemprop=\"mainEntityOfPage\" itemscope=\"\" itemtype=\"https://schema.org/WebPage\"></span>\n",
       "<span itemprop=\"author\" itemscope=\"itemscope\" itemtype=\"https://schema.org/Person\">\n",
       "<span content=\"Ankush Verma\" itemprop=\"name\"></span>\n",
       "</span>\n",
       "<span content=\"Twinkle posts pic of 'Mela' villain's poster, says movie 'left mark or scar on me'\" itemprop=\"description\"></span>\n",
       "<span itemprop=\"image\" itemscope=\"\" itemtype=\"https://schema.org/ImageObject\">\n",
       "<meta content=\"https://static.inshorts.com/inshorts/images/v1/variants/jpg/m/2020/11_nov/17_tue/img_1605592871184_3.jpg?\" itemprop=\"url\"/>\n",
       "<meta content=\"864\" itemprop=\"width\"/>\n",
       "<meta content=\"483\" itemprop=\"height\"/>\n",
       "</span>\n",
       "<span itemprop=\"publisher\" itemscope=\"itemscope\" itemtype=\"https://schema.org/Organization\">\n",
       "<span content=\"https://inshorts.com/\" itemprop=\"url\"></span>\n",
       "<span content=\"Inshorts\" itemprop=\"name\"></span>\n",
       "<span itemprop=\"logo\" itemscope=\"\" itemtype=\"https://schema.org/ImageObject\">\n",
       "<span content=\"https://assets.inshorts.com/inshorts/images/v1/variants/jpg/m/2018/11_nov/21_wed/img_1542823931298_497.jpg\" itemprop=\"url\"></span>\n",
       "<meta content=\"400\" itemprop=\"width\"/>\n",
       "<meta content=\"60\" itemprop=\"height\"/>\n",
       "</span>\n",
       "</span>\n",
       "<div class=\"news-card-image\" style=\"background-image: url('https://static.inshorts.com/inshorts/images/v1/variants/jpg/m/2020/11_nov/17_tue/img_1605592871184_3.jpg?')\">\n",
       "</div>\n",
       "<div class=\"news-card-title news-right-box\">\n",
       "<a class=\"clickable\" href=\"/en/news/twinkle-posts-pic-of-mela-villains-poster-says-movie-left-mark-or-scar-on-me-1605594707888\" onclick=\"ga('send', {'hitType': 'event', 'eventCategory': 'TitleOfNews', 'eventAction': 'clicked', 'eventLabel': 'Twinkle%20posts%20pic%20of%20'Mela'%20villain's%20poster%2C%20says%20movie%20'left%20mark%20or%20scar%20on%20me')' });\" style=\"color:#44444d!important\">\n",
       "<span itemprop=\"headline\">Twinkle posts pic of 'Mela' villain's poster, says movie 'left mark or scar on me'</span>\n",
       "</a>\n",
       "<div class=\"news-card-author-time news-card-author-time-in-title\">\n",
       "<a href=\"/prev/en/news/twinkle-posts-pic-of-mela-villains-poster-says-movie-left-mark-or-scar-on-me-1605594707888\"><span class=\"short\">short</span></a> by <span class=\"author\">Ankush Verma</span> / \n",
       "      <span class=\"time\" content=\"2020-11-17T06:31:47.000Z\" itemprop=\"datePublished\">12:01 pm</span> on <span clas=\"date\">17 Nov 2020,Tuesday</span>\n",
       "</div>\n",
       "</div>\n",
       "<div class=\"news-card-content news-right-box\">\n",
       "<div itemprop=\"articleBody\">Twinkle Khanna shared a picture of a poster of Tinu Verma, who played the villain in 'Mela', on the back of a truck. \"What can I say except Mela has certainly left a mark or a scar...on me and the rest of the nation,\" she said. \"Certain things...are timeless! This popped up in my messages today,\" she added.</div>\n",
       "<div class=\"news-card-author-time news-card-author-time-in-content\">\n",
       "<a href=\"/prev/en/news/twinkle-posts-pic-of-mela-villains-poster-says-movie-left-mark-or-scar-on-me-1605594707888\"><span class=\"short\">short</span></a> by <span class=\"author\">Ankush Verma</span> / \n",
       "      <span class=\"time\" content=\"2020-11-17T06:31:47.000Z\" itemprop=\"dateModified\">12:01 pm</span> on <span class=\"date\">17 Nov</span>\n",
       "</div>\n",
       "</div>\n",
       "<div class=\"news-card-footer news-right-box\">\n",
       "<div class=\"read-more\">read more at <a class=\"source\" href=\"https://m.hindustantimes.com/bollywood/twinkle-khanna-shares-mela-tribute-on-back-of-a-truck-quips-it-has-certainly-left-a-mark-or-a-scar-on-her-and-entire-country/story-ZgVpZkLwBjG3PVOUA0j9fO_amp.html?utm_campaign=fullarticle&amp;utm_medium=referral&amp;utm_source=inshorts \" onclick=\"ga('send', {'hitType': 'event', 'eventCategory': 'ReadMore', 'eventAction': 'clicked', 'eventLabel': 'Hindustan%20Times' });\" target=\"_blank\">Hindustan Times</a></div>\n",
       "</div>\n",
       "</div>"
      ]
     },
     "execution_count": 12,
     "metadata": {},
     "output_type": "execute_result"
    }
   ],
   "source": [
    "# Scrape a ResultSet of all the news cards on the page and inspect the elements on the first card. \n",
    "\n",
    "cards = soup.find_all('div', class_='news-card')\n",
    "\n",
    "# Print how many cards on the main page\n",
    "\n",
    "print(f'There are {len(cards)} news cards on this page.')\n",
    "\n",
    "\n",
    "# Inspect the first card\n",
    "cards[0]"
   ]
  },
  {
   "cell_type": "markdown",
   "metadata": {},
   "source": [
    "### Scrape the title from each news card"
   ]
  },
  {
   "cell_type": "code",
   "execution_count": 13,
   "metadata": {},
   "outputs": [
    {
     "data": {
      "text/plain": [
       "bs4.element.Tag"
      ]
     },
     "execution_count": 13,
     "metadata": {},
     "output_type": "execute_result"
    }
   ],
   "source": [
    "# Print the dtype of the element in card\n",
    "type(cards[0])"
   ]
  },
  {
   "cell_type": "code",
   "execution_count": 14,
   "metadata": {},
   "outputs": [
    {
     "data": {
      "text/plain": [
       "[\"Twinkle posts pic of 'Mela' villain's poster, says movie 'left mark or scar on me'\",\n",
       " 'Milind Soman picks up garbage on trek to a temple; shares pic',\n",
       " \"I was replaced in a film as hero's wife didn't want me to be part of it: Taapsee\",\n",
       " \"Tamil actor's video amid cancer treatment surfaces, fans say 'he looks skinny'\",\n",
       " 'Tamil TV series actor hacked to death, CCTV footage shows argument with gang']"
      ]
     },
     "execution_count": 14,
     "metadata": {},
     "output_type": "execute_result"
    }
   ],
   "source": [
    "# Create a list of titles using the span element and itemprop attribute with text method\n",
    "\n",
    "titles = [card.find('span', itemprop='headline').text for card in cards]\n",
    "\n",
    "# Inspect the first 5 titles\n",
    "\n",
    "titles[:5]"
   ]
  },
  {
   "cell_type": "markdown",
   "metadata": {},
   "source": [
    "### Scrape the author from news card"
   ]
  },
  {
   "cell_type": "code",
   "execution_count": 15,
   "metadata": {},
   "outputs": [
    {
     "data": {
      "text/plain": [
       "['Ankush Verma',\n",
       " 'Pragya Swastik',\n",
       " 'Anmol Sharma',\n",
       " 'Ankush Verma',\n",
       " 'Daisy Mowke']"
      ]
     },
     "execution_count": 15,
     "metadata": {},
     "output_type": "execute_result"
    }
   ],
   "source": [
    "# Create a list of authors using the span elememnt and class attribute with text method.\n",
    "\n",
    "authors = [card.find('span', class_='author').text for card in cards]\n",
    "authors[:5]"
   ]
  },
  {
   "cell_type": "markdown",
   "metadata": {},
   "source": [
    "### Scrape the text from news card"
   ]
  },
  {
   "cell_type": "code",
   "execution_count": 16,
   "metadata": {},
   "outputs": [
    {
     "data": {
      "text/plain": [
       "['Twinkle Khanna shared a picture of a poster of Tinu Verma, who played the villain in \\'Mela\\', on the back of a truck. \"What can I say except Mela has certainly left a mark or a scar...on me and the rest of the nation,\" she said. \"Certain things...are timeless! This popped up in my messages today,\" she added.',\n",
       " 'Actor Milind Soman picked garbage on a trek to a Shiva temple at the top of a hill. He was told there were no dustbins because monkeys kept throwing garbage out of the bins and the garbage is eventually burnt in the forest. \"I think the time has come for us to be smarter than monkeys,\" Soman wrote on Instagram.',\n",
       " 'Talking about \"negativity and misogyny\" she faced early in her career, actress Taapsee Pannu said, \"I was once replaced in a film because...hero\\'s wife didn\\'t want me to be part of it.\" Recalling another incident, she said, \"I was dubbing for [a film] and I was told that the hero didn’t like my dialogue so I should change it.\"',\n",
       " 'A video showing Tamil actor Thavasi, known for his supporting roles, appealing for help has surfaced online. The actor is suffering from cancer and is admitted to a hospital. \"I never thought I\\'d be affected by such a disease. I request...my fellow actors in the industry and the people of the state to help me recover from this,\" he said.',\n",
       " 'Selvarathinam, an actor who played a villain in a Tamil TV series was hacked to death. \"[On Sunday]...he received a call after which he left...Later, his roommate received the information [about his death],\" police said. CCTV footage shows 4 suspicious men moving about near the murder spot. The actor could be found involved in a brief argument with the gang.']"
      ]
     },
     "execution_count": 16,
     "metadata": {},
     "output_type": "execute_result"
    }
   ],
   "source": [
    "# Create a list of content strings using the div element and itemprop attribute with text method.\n",
    "\n",
    "contents = [card.find('div', itemprop='articleBody').text for card in cards]\n",
    "contents[:5]"
   ]
  },
  {
   "cell_type": "code",
   "execution_count": 17,
   "metadata": {},
   "outputs": [
    {
     "name": "stdout",
     "output_type": "stream",
     "text": [
      "24\n"
     ]
    },
    {
     "data": {
      "text/plain": [
       "{'title': \"Twinkle posts pic of 'Mela' villain's poster, says movie 'left mark or scar on me'\",\n",
       " 'author': 'Ankush Verma',\n",
       " 'content': 'Twinkle Khanna shared a picture of a poster of Tinu Verma, who played the villain in \\'Mela\\', on the back of a truck. \"What can I say except Mela has certainly left a mark or a scar...on me and the rest of the nation,\" she said. \"Certain things...are timeless! This popped up in my messages today,\" she added.'}"
      ]
     },
     "execution_count": 17,
     "metadata": {},
     "output_type": "execute_result"
    }
   ],
   "source": [
    "# Create an empty list, articles, to hold the dictionaries for each article\n",
    "articles = []\n",
    "\n",
    "# Loop through each news card on the page and get what we want\n",
    "\n",
    "for card in cards:\n",
    "    title = card.find('span', itemprop = 'headline').text\n",
    "    author = card.find('span', class_ = 'author').text\n",
    "    content = card.find('div', itemprop = 'articleBody').text\n",
    "    \n",
    "    # Create a dictonary, article, for each news card\n",
    "    article = {'title': title, 'author': author, 'content': content}\n",
    "    \n",
    "    # Add the dictionary, article, to our list of dictionaries, articles\n",
    "    articles.append(article)\n",
    "    \n",
    "# Check the length of the articles: should be 24\n",
    "print(len(articles))\n",
    "\n",
    "# Inspect the first member in the list\n",
    "articles[0]"
   ]
  },
  {
   "cell_type": "markdown",
   "metadata": {},
   "source": [
    "### Build Helper Function"
   ]
  },
  {
   "cell_type": "code",
   "execution_count": 18,
   "metadata": {},
   "outputs": [],
   "source": [
    "def get_news_articles(cached=False):\n",
    "    '''\n",
    "    This function with default cached == False does \n",
    "    '''\n",
    "    # option to read in a json file instead of scrape for df\n",
    "    if cached == True:\n",
    "        df = pd.read_json('inhorts_articles.json')\n",
    "        \n",
    "    # option to create a fresh scrape for df\n",
    "    else:\n",
    "        \n",
    "        # Set base_url that will be used in get request\n",
    "        base_url = 'https://inshorts.com/en/read/'\n",
    "        \n",
    "        # List of topics to scrape\n",
    "        topics = ['business', 'sports', 'technology', 'entertainment']\n",
    "        \n",
    "        # Create an empty list, articles, to hold our dictionaries\n",
    "        articles = []\n",
    "        \n",
    "        # For Loop through each topic\n",
    "        for topic in topics:\n",
    "            \n",
    "            # Create the url for the topic\n",
    "            topic_url = base_url + topic\n",
    "            \n",
    "            # Create the soup object by the helper function\n",
    "            soup = make_soup(topic_url)\n",
    "            \n",
    "            # Scrape a ResultSet of all the news cards on the page and inspect the elements on the first card. \n",
    "            cards = soup.find_all('div', class_='news-card')\n",
    "            \n",
    "            # Loop through each news card on the page and get what we want\n",
    "            for card in cards:\n",
    "                title = card.find('span', itemprop = 'headline').text\n",
    "                author = card.find('span', class_ = 'author').text\n",
    "                content = card.find('div', itemprop = 'articleBody').text\n",
    "                \n",
    "                # Create a dictonary, article, for each news card\n",
    "                article = ({'topic': topic, \n",
    "                            'title': title, \n",
    "                            'author': author, \n",
    "                            'content': content})\n",
    "                \n",
    "                # Add the dictionary, article, to our list of dictionaries, articles\n",
    "                articles.append(article)\n",
    "        \n",
    "        # Conver the articles to a dataframe\n",
    "        df = pd.DataFrame(articles)\n",
    "        \n",
    "        # Write the df to json file for fast access\n",
    "        df.to_json('inhorts_articles.json')\n",
    "        \n",
    "    return df"
   ]
  },
  {
   "cell_type": "code",
   "execution_count": 19,
   "metadata": {},
   "outputs": [
    {
     "data": {
      "text/html": [
       "<div>\n",
       "<style scoped>\n",
       "    .dataframe tbody tr th:only-of-type {\n",
       "        vertical-align: middle;\n",
       "    }\n",
       "\n",
       "    .dataframe tbody tr th {\n",
       "        vertical-align: top;\n",
       "    }\n",
       "\n",
       "    .dataframe thead th {\n",
       "        text-align: right;\n",
       "    }\n",
       "</style>\n",
       "<table border=\"1\" class=\"dataframe\">\n",
       "  <thead>\n",
       "    <tr style=\"text-align: right;\">\n",
       "      <th></th>\n",
       "      <th>topic</th>\n",
       "      <th>title</th>\n",
       "      <th>author</th>\n",
       "      <th>content</th>\n",
       "    </tr>\n",
       "  </thead>\n",
       "  <tbody>\n",
       "    <tr>\n",
       "      <th>0</th>\n",
       "      <td>business</td>\n",
       "      <td>Lakshmi Vilas Bank withdrawals capped at ₹25,0...</td>\n",
       "      <td>Pragya Swastik</td>\n",
       "      <td>The Centre has imposed a 30-day moratorium on ...</td>\n",
       "    </tr>\n",
       "    <tr>\n",
       "      <th>1</th>\n",
       "      <td>business</td>\n",
       "      <td>How does Moderna's COVID-19 vaccine candidate ...</td>\n",
       "      <td>Pragya Swastik</td>\n",
       "      <td>Moderna's initial results of late-stage trial ...</td>\n",
       "    </tr>\n",
       "    <tr>\n",
       "      <th>2</th>\n",
       "      <td>business</td>\n",
       "      <td>Shutting Delhi markets may prove counterproduc...</td>\n",
       "      <td>Sakshita Khosla</td>\n",
       "      <td>Traders' body CAIT on Tuesday said a proposal ...</td>\n",
       "    </tr>\n",
       "    <tr>\n",
       "      <th>3</th>\n",
       "      <td>business</td>\n",
       "      <td>Pfizer shares drop 4.5% as Moderna says its va...</td>\n",
       "      <td>Krishna Veera Vanamali</td>\n",
       "      <td>Pfizer’s shares fell as much as 4.5% on Monday...</td>\n",
       "    </tr>\n",
       "    <tr>\n",
       "      <th>4</th>\n",
       "      <td>business</td>\n",
       "      <td>Musk gets $15bn richer in 2 hours, becomes wor...</td>\n",
       "      <td>Krishna Veera Vanamali</td>\n",
       "      <td>Billionaire Elon Musk added $15 billion to his...</td>\n",
       "    </tr>\n",
       "  </tbody>\n",
       "</table>\n",
       "</div>"
      ],
      "text/plain": [
       "      topic                                              title  \\\n",
       "0  business  Lakshmi Vilas Bank withdrawals capped at ₹25,0...   \n",
       "1  business  How does Moderna's COVID-19 vaccine candidate ...   \n",
       "2  business  Shutting Delhi markets may prove counterproduc...   \n",
       "3  business  Pfizer shares drop 4.5% as Moderna says its va...   \n",
       "4  business  Musk gets $15bn richer in 2 hours, becomes wor...   \n",
       "\n",
       "                   author                                            content  \n",
       "0          Pragya Swastik  The Centre has imposed a 30-day moratorium on ...  \n",
       "1          Pragya Swastik  Moderna's initial results of late-stage trial ...  \n",
       "2         Sakshita Khosla  Traders' body CAIT on Tuesday said a proposal ...  \n",
       "3  Krishna Veera Vanamali  Pfizer’s shares fell as much as 4.5% on Monday...  \n",
       "4  Krishna Veera Vanamali  Billionaire Elon Musk added $15 billion to his...  "
      ]
     },
     "execution_count": 19,
     "metadata": {},
     "output_type": "execute_result"
    }
   ],
   "source": [
    "# Test the function with cashed == False to do a fresh scrape and create 'articles.json' file\n",
    "\n",
    "df = get_news_articles(cached=False)\n",
    "df.head()"
   ]
  },
  {
   "cell_type": "code",
   "execution_count": 20,
   "metadata": {},
   "outputs": [
    {
     "name": "stdout",
     "output_type": "stream",
     "text": [
      "<class 'pandas.core.frame.DataFrame'>\n",
      "RangeIndex: 99 entries, 0 to 98\n",
      "Data columns (total 4 columns):\n",
      " #   Column   Non-Null Count  Dtype \n",
      "---  ------   --------------  ----- \n",
      " 0   topic    99 non-null     object\n",
      " 1   title    99 non-null     object\n",
      " 2   author   99 non-null     object\n",
      " 3   content  99 non-null     object\n",
      "dtypes: object(4)\n",
      "memory usage: 3.2+ KB\n"
     ]
    }
   ],
   "source": [
    "# Quick summarize the df\n",
    "df.info()"
   ]
  },
  {
   "cell_type": "code",
   "execution_count": 21,
   "metadata": {},
   "outputs": [
    {
     "data": {
      "text/plain": [
       "technology       25\n",
       "sports           25\n",
       "business         25\n",
       "entertainment    24\n",
       "Name: topic, dtype: int64"
      ]
     },
     "execution_count": 21,
     "metadata": {},
     "output_type": "execute_result"
    }
   ],
   "source": [
    "# Count the articles in each topic \n",
    "df.topic.value_counts()"
   ]
  },
  {
   "cell_type": "code",
   "execution_count": 22,
   "metadata": {},
   "outputs": [
    {
     "data": {
      "text/html": [
       "<div>\n",
       "<style scoped>\n",
       "    .dataframe tbody tr th:only-of-type {\n",
       "        vertical-align: middle;\n",
       "    }\n",
       "\n",
       "    .dataframe tbody tr th {\n",
       "        vertical-align: top;\n",
       "    }\n",
       "\n",
       "    .dataframe thead th {\n",
       "        text-align: right;\n",
       "    }\n",
       "</style>\n",
       "<table border=\"1\" class=\"dataframe\">\n",
       "  <thead>\n",
       "    <tr style=\"text-align: right;\">\n",
       "      <th></th>\n",
       "      <th>topic</th>\n",
       "      <th>title</th>\n",
       "      <th>author</th>\n",
       "      <th>content</th>\n",
       "    </tr>\n",
       "  </thead>\n",
       "  <tbody>\n",
       "    <tr>\n",
       "      <th>0</th>\n",
       "      <td>business</td>\n",
       "      <td>Lakshmi Vilas Bank withdrawals capped at ₹25,0...</td>\n",
       "      <td>Pragya Swastik</td>\n",
       "      <td>The Centre has imposed a 30-day moratorium on ...</td>\n",
       "    </tr>\n",
       "    <tr>\n",
       "      <th>1</th>\n",
       "      <td>business</td>\n",
       "      <td>How does Moderna's COVID-19 vaccine candidate ...</td>\n",
       "      <td>Pragya Swastik</td>\n",
       "      <td>Moderna's initial results of late-stage trial ...</td>\n",
       "    </tr>\n",
       "    <tr>\n",
       "      <th>2</th>\n",
       "      <td>business</td>\n",
       "      <td>Shutting Delhi markets may prove counterproduc...</td>\n",
       "      <td>Sakshita Khosla</td>\n",
       "      <td>Traders' body CAIT on Tuesday said a proposal ...</td>\n",
       "    </tr>\n",
       "    <tr>\n",
       "      <th>3</th>\n",
       "      <td>business</td>\n",
       "      <td>Pfizer shares drop 4.5% as Moderna says its va...</td>\n",
       "      <td>Krishna Veera Vanamali</td>\n",
       "      <td>Pfizer’s shares fell as much as 4.5% on Monday...</td>\n",
       "    </tr>\n",
       "    <tr>\n",
       "      <th>4</th>\n",
       "      <td>business</td>\n",
       "      <td>Musk gets $15bn richer in 2 hours, becomes wor...</td>\n",
       "      <td>Krishna Veera Vanamali</td>\n",
       "      <td>Billionaire Elon Musk added $15 billion to his...</td>\n",
       "    </tr>\n",
       "  </tbody>\n",
       "</table>\n",
       "</div>"
      ],
      "text/plain": [
       "      topic                                              title  \\\n",
       "0  business  Lakshmi Vilas Bank withdrawals capped at ₹25,0...   \n",
       "1  business  How does Moderna's COVID-19 vaccine candidate ...   \n",
       "2  business  Shutting Delhi markets may prove counterproduc...   \n",
       "3  business  Pfizer shares drop 4.5% as Moderna says its va...   \n",
       "4  business  Musk gets $15bn richer in 2 hours, becomes wor...   \n",
       "\n",
       "                   author                                            content  \n",
       "0          Pragya Swastik  The Centre has imposed a 30-day moratorium on ...  \n",
       "1          Pragya Swastik  Moderna's initial results of late-stage trial ...  \n",
       "2         Sakshita Khosla  Traders' body CAIT on Tuesday said a proposal ...  \n",
       "3  Krishna Veera Vanamali  Pfizer’s shares fell as much as 4.5% on Monday...  \n",
       "4  Krishna Veera Vanamali  Billionaire Elon Musk added $15 billion to his...  "
      ]
     },
     "execution_count": 22,
     "metadata": {},
     "output_type": "execute_result"
    }
   ],
   "source": [
    "# Test the function to read in the df from 'articles.csv'\n",
    "\n",
    "df = get_news_articles(cached=True)\n",
    "df.head()"
   ]
  },
  {
   "cell_type": "code",
   "execution_count": 23,
   "metadata": {},
   "outputs": [
    {
     "name": "stdout",
     "output_type": "stream",
     "text": [
      "<class 'pandas.core.frame.DataFrame'>\n",
      "Int64Index: 99 entries, 0 to 98\n",
      "Data columns (total 4 columns):\n",
      " #   Column   Non-Null Count  Dtype \n",
      "---  ------   --------------  ----- \n",
      " 0   topic    99 non-null     object\n",
      " 1   title    99 non-null     object\n",
      " 2   author   99 non-null     object\n",
      " 3   content  99 non-null     object\n",
      "dtypes: object(4)\n",
      "memory usage: 3.9+ KB\n"
     ]
    }
   ],
   "source": [
    "# Quick summarize the df\n",
    "df.info()"
   ]
  }
 ],
 "metadata": {
  "kernelspec": {
   "display_name": "Python 3",
   "language": "python",
   "name": "python3"
  },
  "language_info": {
   "codemirror_mode": {
    "name": "ipython",
    "version": 3
   },
   "file_extension": ".py",
   "mimetype": "text/x-python",
   "name": "python",
   "nbconvert_exporter": "python",
   "pygments_lexer": "ipython3",
   "version": "3.7.6"
  }
 },
 "nbformat": 4,
 "nbformat_minor": 4
}
