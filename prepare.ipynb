{
 "cells": [
  {
   "cell_type": "code",
   "execution_count": 1,
   "metadata": {},
   "outputs": [],
   "source": [
    "# Import libraries\n",
    "\n",
    "import pandas as pd\n",
    "import numpy as np\n",
    "\n",
    "import unicodedata\n",
    "import re\n",
    "import json\n",
    "import os\n",
    "\n",
    "import nltk\n",
    "from nltk.tokenize.toktok import ToktokTokenizer\n",
    "from nltk.corpus import stopwords\n",
    "\n",
    "import acquire, prepare\n",
    "\n",
    "# nltk.download('wordnet')\n",
    "# nltk.download('stopwords')"
   ]
  },
  {
   "cell_type": "markdown",
   "metadata": {},
   "source": [
    "### Natural Language Processing\n",
    "Natural Language Processing allows you to use the techniques in **Python libraries like NLTK (Natural Language Tool Kit) and SpaCy** to create a **machine-useable structure out of natural language text**. In other words, you can manipulate natural language in such a way that renders it useful in machine learning. Machines can't read words, but they can recognize numbers, so we have **to process the text we want to use in a way that retains the original meaning while representing the text with numbers.** "
   ]
  },
  {
   "cell_type": "markdown",
   "metadata": {},
   "source": [
    "### Workflow to process text data (text normalizatioin)\n",
    "- To used in exploration and modeling, our text data needs to be processed. Such preprocessing is known as text normaliztion. \n",
    "- Normalization is when you perform a series of tasks like making all text lowercase, removing punctuation, expanding contractions, removing anything that's not an ASCII character, etc."
   ]
  },
  {
   "cell_type": "markdown",
   "metadata": {},
   "source": [
    "## Exercises\n",
    "The end result of this exercise should be a file named prepare.py that defines the requested functions.\n",
    "\n",
    "In this exercise we will be defining some functions to prepare textual data. These functions should apply equally well to both the codeup blog articles and the news articles that were previously acquired."
   ]
  },
  {
   "cell_type": "code",
   "execution_count": 3,
   "metadata": {},
   "outputs": [
    {
     "data": {
      "text/html": [
       "<div>\n",
       "<style scoped>\n",
       "    .dataframe tbody tr th:only-of-type {\n",
       "        vertical-align: middle;\n",
       "    }\n",
       "\n",
       "    .dataframe tbody tr th {\n",
       "        vertical-align: top;\n",
       "    }\n",
       "\n",
       "    .dataframe thead th {\n",
       "        text-align: right;\n",
       "    }\n",
       "</style>\n",
       "<table border=\"1\" class=\"dataframe\">\n",
       "  <thead>\n",
       "    <tr style=\"text-align: right;\">\n",
       "      <th></th>\n",
       "      <th>topic</th>\n",
       "      <th>title</th>\n",
       "      <th>author</th>\n",
       "      <th>content</th>\n",
       "    </tr>\n",
       "  </thead>\n",
       "  <tbody>\n",
       "    <tr>\n",
       "      <th>0</th>\n",
       "      <td>business</td>\n",
       "      <td>Lakshmi Vilas Bank withdrawals capped at ₹25,0...</td>\n",
       "      <td>Pragya Swastik</td>\n",
       "      <td>The Centre has imposed a 30-day moratorium on ...</td>\n",
       "    </tr>\n",
       "    <tr>\n",
       "      <th>1</th>\n",
       "      <td>business</td>\n",
       "      <td>How does Moderna's COVID-19 vaccine candidate ...</td>\n",
       "      <td>Pragya Swastik</td>\n",
       "      <td>Moderna's initial results of late-stage trial ...</td>\n",
       "    </tr>\n",
       "    <tr>\n",
       "      <th>2</th>\n",
       "      <td>business</td>\n",
       "      <td>Shutting Delhi markets may prove counterproduc...</td>\n",
       "      <td>Sakshita Khosla</td>\n",
       "      <td>Traders' body CAIT on Tuesday said a proposal ...</td>\n",
       "    </tr>\n",
       "    <tr>\n",
       "      <th>3</th>\n",
       "      <td>business</td>\n",
       "      <td>Pfizer shares drop 4.5% as Moderna says its va...</td>\n",
       "      <td>Krishna Veera Vanamali</td>\n",
       "      <td>Pfizer’s shares fell as much as 4.5% on Monday...</td>\n",
       "    </tr>\n",
       "    <tr>\n",
       "      <th>4</th>\n",
       "      <td>business</td>\n",
       "      <td>Musk gets $15bn richer in 2 hours, becomes wor...</td>\n",
       "      <td>Krishna Veera Vanamali</td>\n",
       "      <td>Billionaire Elon Musk added $15 billion to his...</td>\n",
       "    </tr>\n",
       "  </tbody>\n",
       "</table>\n",
       "</div>"
      ],
      "text/plain": [
       "      topic                                              title  \\\n",
       "0  business  Lakshmi Vilas Bank withdrawals capped at ₹25,0...   \n",
       "1  business  How does Moderna's COVID-19 vaccine candidate ...   \n",
       "2  business  Shutting Delhi markets may prove counterproduc...   \n",
       "3  business  Pfizer shares drop 4.5% as Moderna says its va...   \n",
       "4  business  Musk gets $15bn richer in 2 hours, becomes wor...   \n",
       "\n",
       "                   author                                            content  \n",
       "0          Pragya Swastik  The Centre has imposed a 30-day moratorium on ...  \n",
       "1          Pragya Swastik  Moderna's initial results of late-stage trial ...  \n",
       "2         Sakshita Khosla  Traders' body CAIT on Tuesday said a proposal ...  \n",
       "3  Krishna Veera Vanamali  Pfizer’s shares fell as much as 4.5% on Monday...  \n",
       "4  Krishna Veera Vanamali  Billionaire Elon Musk added $15 billion to his...  "
      ]
     },
     "execution_count": 3,
     "metadata": {},
     "output_type": "execute_result"
    }
   ],
   "source": [
    "# Read the text data into a pandas df from saved json file\n",
    "\n",
    "df = acquire.get_news_articles(cached=True)\n",
    "df.head()"
   ]
  },
  {
   "cell_type": "code",
   "execution_count": 5,
   "metadata": {},
   "outputs": [
    {
     "name": "stdout",
     "output_type": "stream",
     "text": [
      "<class 'str'>\n"
     ]
    },
    {
     "data": {
      "text/plain": [
       "'The Centre has imposed a 30-day moratorium on Lakshmi Vilas Bank effective from Tuesday. A withdrawal limit of ₹25,000 with certain exceptions for unforeseen expenses has been imposed for depositors. The RBI said, \"The financial position of the bank has undergone a steady decline with continuous losses over the last three years.\"'"
      ]
     },
     "execution_count": 5,
     "metadata": {},
     "output_type": "execute_result"
    }
   ],
   "source": [
    "# Define a string used to test the functions\n",
    "original = df.content[0]\n",
    "\n",
    "# Print its dtype\n",
    "print(type(original))\n",
    "\n",
    "# Print the content\n",
    "original"
   ]
  },
  {
   "cell_type": "markdown",
   "metadata": {},
   "source": [
    "### 1. Define a function named `basic_clean`. It should take in a string and apply some basic text cleaning to it."
   ]
  },
  {
   "cell_type": "markdown",
   "metadata": {},
   "source": [
    "#### Remove Accented Characters\n",
    "\n",
    "We will remove accented characters by chaining together the following methods:\n",
    "\n",
    "**Remove inconsistencies in unicode character encoding.**<br>\n",
    "`string = unicodedata.normalize(form, unistr)`\n",
    "\n",
    "**Convert string to ASCII character set and drop non-ASCII characters.**<br>\n",
    "`string = string.encode('ascii', 'ignore')`\n",
    "\n",
    "**Convert the bytes back into a string object.**<br>\n",
    "`string = string.decode('utf-8', 'ignore')`"
   ]
  },
  {
   "cell_type": "markdown",
   "metadata": {},
   "source": [
    "#### Remove Special Characters\n",
    "\n",
    "Here are two common patterns I might want to use to remove special characters; it just depends on what you want to remain in your string.\n",
    "\n",
    "**Remove characters that are not letters, underscores, or spaces.**<br>\n",
    "`string = re.sub(r'[^\\w\\s]', '', string)`\n",
    "\n",
    "**Remove characters that are not letters, numbers, single quotes, or spaces.**<br>\n",
    "`string = re.sub(r\"[^a-z0-9'\\s]\", '', string)`"
   ]
  },
  {
   "cell_type": "code",
   "execution_count": 22,
   "metadata": {},
   "outputs": [],
   "source": [
    "def basic_clean(original):\n",
    "    '''\n",
    "    The function takes in a string and does the basic clean to the string\n",
    "    '''\n",
    "    \n",
    "    # convert text to all lower case for normalcy. \n",
    "    article = original.lower()\n",
    "    \n",
    "    # remove any accented, non-ACSII cahracters \n",
    "    article = unicodedata.normalize('NFKD', article)\\\n",
    "                .encode('ascii', 'ignore')\\\n",
    "                .decode('utf-8', 'ignore')\n",
    "    \n",
    "    # replace anthing that is not a letter, number, whitespace \n",
    "    article = re.sub(r\"[^a-z0-9'\\s]\", '', article)\n",
    "    \n",
    "    return article                     "
   ]
  },
  {
   "cell_type": "code",
   "execution_count": 23,
   "metadata": {},
   "outputs": [
    {
     "data": {
      "text/plain": [
       "'the centre has imposed a 30day moratorium on lakshmi vilas bank effective from tuesday a withdrawal limit of 25000 with certain exceptions for unforeseen expenses has been imposed for depositors the rbi said the financial position of the bank has undergone a steady decline with continuous losses over the last three years'"
      ]
     },
     "execution_count": 23,
     "metadata": {},
     "output_type": "execute_result"
    }
   ],
   "source": [
    "# Test the function\n",
    "\n",
    "article = basic_clean(original)\n",
    "article"
   ]
  },
  {
   "cell_type": "markdown",
   "metadata": {},
   "source": [
    "### 2. Define a function named `tokenize`. It should take in a string and tokenize all the words in the string."
   ]
  },
  {
   "cell_type": "markdown",
   "metadata": {},
   "source": [
    "#### Tokenize Text\n",
    "\n",
    "**Tokenization** - is when you split larger strings of text into smaller pieces or tokens by setting a boundary. You might chunk a sentence into words using a space as a boundary or a paragraph into sentences using punctuation as a boundary.\n",
    "\n",
    "### Using NLTK Tokenization\n",
    "**Create the tokenizer**<br>\n",
    "`tokenizer = nltk.tokenize.ToktokTokenizer()`\n",
    "\n",
    "**Use the tokenizer on my string and assign to a variable.**<br>\n",
    "`tokenized_string = tokenizer.tokenize(string, return_str=True)`"
   ]
  },
  {
   "cell_type": "code",
   "execution_count": 8,
   "metadata": {},
   "outputs": [],
   "source": [
    "def tokenize(original):\n",
    "    '''\n",
    "    This function takes in a string and returns a tokenized string. \n",
    "    '''\n",
    "    # Create the object\n",
    "    tokenizer = nltk.tokenize.ToktokTokenizer()\n",
    "    \n",
    "    # Use the tokenizer\n",
    "    article = tokenizer.tokenize(original, return_str=True)\n",
    "    \n",
    "    return article"
   ]
  },
  {
   "cell_type": "code",
   "execution_count": 9,
   "metadata": {},
   "outputs": [
    {
     "data": {
      "text/plain": [
       "'The Centre has imposed a 30-day moratorium on Lakshmi Vilas Bank effective from Tuesday. A withdrawal limit of ₹ 25,000 with certain exceptions for unforeseen expenses has been imposed for depositors. The RBI said , \" The financial position of the bank has undergone a steady decline with continuous losses over the last three years . \"'"
      ]
     },
     "execution_count": 9,
     "metadata": {},
     "output_type": "execute_result"
    }
   ],
   "source": [
    "# Test the function\n",
    "\n",
    "article = tokenize(original)\n",
    "article"
   ]
  },
  {
   "cell_type": "markdown",
   "metadata": {},
   "source": [
    "### 3. Define a function named `stem`. It should accept some text and return the text after applying stemming to all the words."
   ]
  },
  {
   "cell_type": "markdown",
   "metadata": {},
   "source": [
    "#### Stem Words\n",
    "\n",
    "**Stemming** is when you reduce related words in your text to their common stem. It can make it easier when you are searching for a particular word in your text to search for their common stem rather than every form of the word. Stemmers aren't that sophisticated in the way they chop off word endings at their common stems; Spacy, another python NLP library, doesn't even include a stemmer in their library. Spacy only offers the more sophisticated lemmatizer, which we will look at in NLTK next.\n",
    "\n",
    "#### Using NLTK PorterStemmer\n",
    "**Create the Stemmer.**<br>\n",
    "`ps = nltk.porter.PorterStemmer()`\n",
    "\n",
    "**Apply the stemmer to each word in our string.**<br>\n",
    "`stems = [ps.stem(word) for word in string.split()]`\n",
    "\n",
    "**Join our lists of words into strings again and assign to a variable.**<br>\n",
    "`stemmed_string = ' '.join('stems')`"
   ]
  },
  {
   "cell_type": "code",
   "execution_count": 10,
   "metadata": {},
   "outputs": [],
   "source": [
    "# Stem function\n",
    "\n",
    "def stem(article):\n",
    "    '''\n",
    "    This function takes in a string and returns a string with words stemmed. \n",
    "    '''    \n",
    "    # Create the nltk stemmer object\n",
    "    ps = nltk.porter.PorterStemmer()\n",
    "    \n",
    "    # Use list comprehension to stemmingly transform all the words in the article\n",
    "    stems = [ps.stem(word) for word in article.split()]\n",
    "    \n",
    "    # Join the stemmed words back to a string\n",
    "    stemmed_article = ' '.join(stems)\n",
    "    \n",
    "    return stemmed_article"
   ]
  },
  {
   "cell_type": "code",
   "execution_count": 11,
   "metadata": {},
   "outputs": [
    {
     "data": {
      "text/plain": [
       "'the centr ha impos a 30-day moratorium on lakshmi vila bank effect from tuesday. A withdraw limit of ₹ 25,000 with certain except for unforeseen expens ha been impos for depositors. the rbi said , \" the financi posit of the bank ha undergon a steadi declin with continu loss over the last three year . \"'"
      ]
     },
     "execution_count": 11,
     "metadata": {},
     "output_type": "execute_result"
    }
   ],
   "source": [
    "# Test the function\n",
    "\n",
    "stemmed_article = stem(article)\n",
    "stemmed_article"
   ]
  },
  {
   "cell_type": "code",
   "execution_count": 12,
   "metadata": {},
   "outputs": [
    {
     "data": {
      "text/plain": [
       "the       5\n",
       "ha        3\n",
       "impos     2\n",
       "for       2\n",
       "\"         2\n",
       "a         2\n",
       "bank      2\n",
       "with      2\n",
       "of        2\n",
       "except    1\n",
       "dtype: int64"
      ]
     },
     "execution_count": 12,
     "metadata": {},
     "output_type": "execute_result"
    }
   ],
   "source": [
    "# Count the number of unique words\n",
    "pd.Series(stemmed_article.split()).value_counts().head(10)"
   ]
  },
  {
   "cell_type": "markdown",
   "metadata": {},
   "source": [
    "### 4. Define a function named `lemmatize`. It should accept some text and return the text after applying lemmatization to each word."
   ]
  },
  {
   "cell_type": "markdown",
   "metadata": {},
   "source": [
    "#### Lemmatize Words\n",
    "\n",
    "**Lemmatization** - is when you reduce related words in your text to their lemma or word base by applying a **morphological analysis** to your text. Like stemming, this is done to reduce the number of forms you have of the same word, so they can be analyzed as a single item. While stemming might create tokens that are not actually words anymore after they have been chopped off at their base, lemmatization will leave you with real words. A drawback to lemmatization is that it takes longer than stemming; you can try both to see which gives you better results as you analyze a given text.\n",
    "\n",
    "#### Using NLTK WordNetLemmatizer\n",
    "\n",
    "**Download the first time.**<br>\n",
    "`nltk.download('wordnet')`\n",
    "\n",
    "**Create the Lemmatizer.**<br>\n",
    "`wnl = nltk.stem.WordNetLemmatizer()`\n",
    "\n",
    "**Use the lemmatizer on each word in the list of words we created by using split.**<br>\n",
    "`lemmas = [wnl.lemmatize(word) for word in string.split()]`\n",
    "\n",
    "**Join our list of words into a string again and assign to a variable.**<br>\n",
    "`lemmatized_string = ' '.join(lemmas)`"
   ]
  },
  {
   "cell_type": "code",
   "execution_count": 13,
   "metadata": {},
   "outputs": [],
   "source": [
    "# Lemmatize function\n",
    "\n",
    "def lemmatize(article):\n",
    "    '''\n",
    "    This function takes in a string and returns a string with words lemmatized. \n",
    "    '''\n",
    "    \n",
    "    # Create the nltk lemmatizer object\n",
    "    wnl = nltk.stem.WordNetLemmatizer()\n",
    "    \n",
    "    # Use list comprehension to lemmatizedly transform all the words in the article\n",
    "    lemmas = [wnl.lemmatize(word) for word in article.split()]\n",
    "    \n",
    "    # Join the lemmatized words back to a string\n",
    "    lemmatized_article = ' '.join(lemmas)\n",
    "    \n",
    "    return lemmatized_article"
   ]
  },
  {
   "cell_type": "code",
   "execution_count": 24,
   "metadata": {},
   "outputs": [
    {
     "data": {
      "text/plain": [
       "'the centre ha imposed a 30day moratorium on lakshmi vila bank effective from tuesday a withdrawal limit of 25000 with certain exception for unforeseen expense ha been imposed for depositor the rbi said the financial position of the bank ha undergone a steady decline with continuous loss over the last three year'"
      ]
     },
     "execution_count": 24,
     "metadata": {},
     "output_type": "execute_result"
    }
   ],
   "source": [
    "# Test the function\n",
    "\n",
    "lemmatized_article = lemmatize(article)\n",
    "lemmatized_article"
   ]
  },
  {
   "cell_type": "markdown",
   "metadata": {},
   "source": [
    "### 5. Define a function named `remove_stopwords`. It should accept some text and return the text after removing all the stopwords.\n",
    "\n",
    "### This function should define two optional parameters, `extra_words` and `exclude_words`. These parameters should define any additional stop words to include, and any words that we don't want to remove."
   ]
  },
  {
   "cell_type": "markdown",
   "metadata": {},
   "source": [
    "#### Remove Stopwords\n",
    "\n",
    "**Stopwords** - are words which are filtered out during the preparation of your text for analyzation and modeling. **Stopwords are those that offer little to the meaning of your text and are basically just adding noise to your analysis.** Or, as Ryan Orsinger would say, \"Stopwords aren't the real story of the document.\" Words such as 'the', 'and', 'a', and the like can be removed, so you can better focus on the good stuff.\n",
    "\n",
    "#### Using NLTK Stopwords\n",
    "**Download the first time.**<br>\n",
    "`nltk.download('stopwords')`\n",
    "\n",
    "**Create list of stopwords and assign to variable.**<br>\n",
    "`stopword_list = stopwords.words('english')`\n",
    "\n",
    "**Create list of words and assign to variable.**<br>\n",
    "`words = string.split()`\n",
    "\n",
    "**Create a list of words from my string with stopwords removed and assign to variable.**<br>\n",
    "`filtered_words = [w for w in words if w not in stopword_list]`\n",
    "\n",
    "**Join words in the list back into strings and assign to a variable.**<br>\n",
    "`string_without_stopwords = ' '.join(filtered_words)`"
   ]
  },
  {
   "cell_type": "code",
   "execution_count": 19,
   "metadata": {
    "scrolled": false
   },
   "outputs": [
    {
     "name": "stdout",
     "output_type": "stream",
     "text": [
      "179\n"
     ]
    },
    {
     "data": {
      "text/plain": [
       "['i', 'me', 'my', 'myself', 'we']"
      ]
     },
     "execution_count": 19,
     "metadata": {},
     "output_type": "execute_result"
    }
   ],
   "source": [
    "# Create the list of stopwords\n",
    "stopword_list = stopwords.words('english')\n",
    "\n",
    "# Print the size of the list\n",
    "print(len(stopword_list))\n",
    "\n",
    "# Take a peek at the first \n",
    "stopword_list[:5]"
   ]
  },
  {
   "cell_type": "code",
   "execution_count": 25,
   "metadata": {},
   "outputs": [
    {
     "data": {
      "text/plain": [
       "['the',\n",
       " 'centre',\n",
       " 'has',\n",
       " 'imposed',\n",
       " 'a',\n",
       " '30day',\n",
       " 'moratorium',\n",
       " 'on',\n",
       " 'lakshmi',\n",
       " 'vilas']"
      ]
     },
     "execution_count": 25,
     "metadata": {},
     "output_type": "execute_result"
    }
   ],
   "source": [
    "# Split the words in lemmatized column\n",
    "\n",
    "words = article.split()\n",
    "words[:10]"
   ]
  },
  {
   "cell_type": "code",
   "execution_count": 26,
   "metadata": {},
   "outputs": [
    {
     "data": {
      "text/plain": [
       "['centre',\n",
       " 'imposed',\n",
       " '30day',\n",
       " 'moratorium',\n",
       " 'lakshmi',\n",
       " 'vilas',\n",
       " 'bank',\n",
       " 'effective',\n",
       " 'tuesday',\n",
       " 'withdrawal']"
      ]
     },
     "execution_count": 26,
     "metadata": {},
     "output_type": "execute_result"
    }
   ],
   "source": [
    "# Create a list of words from with stopwords removed and assign to variable\n",
    "\n",
    "filtered_words = [word for word in words if word not in stopword_list]\n",
    "filtered_words[:10]"
   ]
  },
  {
   "cell_type": "code",
   "execution_count": 27,
   "metadata": {},
   "outputs": [
    {
     "data": {
      "text/plain": [
       "'centre imposed 30day moratorium lakshmi vilas bank effective tuesday withdrawal limit 25000 certain exceptions unforeseen expenses imposed depositors rbi said financial position bank undergone steady decline continuous losses last three years'"
      ]
     },
     "execution_count": 27,
     "metadata": {},
     "output_type": "execute_result"
    }
   ],
   "source": [
    "# Join words in the list back into strings; assign to a variable to keep changes.\n",
    "\n",
    "' '.join(filtered_words)"
   ]
  },
  {
   "cell_type": "code",
   "execution_count": 28,
   "metadata": {},
   "outputs": [],
   "source": [
    "# Stopwords function\n",
    "\n",
    "def remove_stopwords(string, extra_words=[], exclude_words=[]):\n",
    "    '''\n",
    "    This function takes in a string, optional extra_words and exlude_words parameters\n",
    "    with default empty lists and returns a string.\n",
    "    '''\n",
    "    # Create stopword_list\n",
    "    stopword_list = stopwords.words('english')\n",
    "    \n",
    "    # Remove 'exclude_words' from stopword_list to keep these in the text\n",
    "    stopword_list = set(stopword_list) - set(exclude_words)\n",
    "    \n",
    "    # Add in 'extra_words' to stopword_list\n",
    "    stopword_list = stopword_list.union(set(extra_words))\n",
    "    \n",
    "    # Split words in the string\n",
    "    words = string.split()\n",
    "    \n",
    "    # Create a list of words from the string with stopwords removed and assign to variable\n",
    "    filtered_words = [word for word in words if word not in stopword_list]\n",
    "    \n",
    "    # Join words in the list back into strings and assign to a varibale\n",
    "    string_without_stopwords = ' '.join(filtered_words)\n",
    "    \n",
    "    return string_without_stopwords"
   ]
  },
  {
   "cell_type": "code",
   "execution_count": 29,
   "metadata": {},
   "outputs": [
    {
     "data": {
      "text/plain": [
       "'centre imposed 30day moratorium lakshmi vilas bank effective tuesday withdrawal limit 25000 certain exceptions unforeseen expenses imposed depositors rbi said financial position bank undergone steady decline continuous losses last three years'"
      ]
     },
     "execution_count": 29,
     "metadata": {},
     "output_type": "execute_result"
    }
   ],
   "source": [
    "# Test the function\n",
    "remove_stopwords(article)"
   ]
  },
  {
   "cell_type": "code",
   "execution_count": 30,
   "metadata": {},
   "outputs": [
    {
     "data": {
      "text/plain": [
       "'the centre imposed 30day moratorium lakshmi vilas effective tuesday withdrawal limit 25000 certain exceptions unforeseen expenses imposed depositors the rbi said the financial position the undergone steady decline continuous losses the last three years'"
      ]
     },
     "execution_count": 30,
     "metadata": {},
     "output_type": "execute_result"
    }
   ],
   "source": [
    "# Test the function for adding extra_words to stopword list and removing exclude_words\n",
    "\n",
    "remove_stopwords(article, extra_words=['bank'], exclude_words=['the'])"
   ]
  },
  {
   "cell_type": "markdown",
   "metadata": {},
   "source": [
    "### Build the helper function by chaining the above fucntions"
   ]
  },
  {
   "cell_type": "code",
   "execution_count": 36,
   "metadata": {},
   "outputs": [],
   "source": [
    "def prep_article_data(df, column, extra_words=[], exclude_words=[]):\n",
    "    '''\n",
    "    This function take in a df and the string name for a text column with the option\n",
    "    to pass lists for extra_words and exlucde_words and returns a df with the text article title, \n",
    "    original text, stemmed text, lemmatized text, cleaned-tokenized-lemmatized-stopwords removed text.  \n",
    "    '''\n",
    "    df['clean'] = df[column].apply(basic_clean)\\\n",
    "                            .apply(tokenize)\\\n",
    "                            .apply(remove_stopwords, extra_words=extra_words, exclude_words=exclude_words)\\\n",
    "                            .apply(lemmatize)\n",
    "    \n",
    "    df['stemmed'] = df[column].apply(basic_clean).apply(stem)\n",
    "    \n",
    "    df['lemmatized'] = df[column].apply(basic_clean).apply(lemmatize)\n",
    "    \n",
    "    return df[['title', column, 'stemmed', 'lemmatized', 'clean']]"
   ]
  },
  {
   "cell_type": "markdown",
   "metadata": {},
   "source": [
    "### 6. Use your data from the acquire to produce a dataframe of the news articles. Name the dataframe `news_df.`"
   ]
  },
  {
   "cell_type": "code",
   "execution_count": 3,
   "metadata": {},
   "outputs": [
    {
     "data": {
      "text/html": [
       "<div>\n",
       "<style scoped>\n",
       "    .dataframe tbody tr th:only-of-type {\n",
       "        vertical-align: middle;\n",
       "    }\n",
       "\n",
       "    .dataframe tbody tr th {\n",
       "        vertical-align: top;\n",
       "    }\n",
       "\n",
       "    .dataframe thead th {\n",
       "        text-align: right;\n",
       "    }\n",
       "</style>\n",
       "<table border=\"1\" class=\"dataframe\">\n",
       "  <thead>\n",
       "    <tr style=\"text-align: right;\">\n",
       "      <th></th>\n",
       "      <th>topic</th>\n",
       "      <th>title</th>\n",
       "      <th>author</th>\n",
       "      <th>original</th>\n",
       "    </tr>\n",
       "  </thead>\n",
       "  <tbody>\n",
       "    <tr>\n",
       "      <th>0</th>\n",
       "      <td>business</td>\n",
       "      <td>Lakshmi Vilas Bank withdrawals capped at ₹25,0...</td>\n",
       "      <td>Pragya Swastik</td>\n",
       "      <td>The Centre has imposed a 30-day moratorium on ...</td>\n",
       "    </tr>\n",
       "    <tr>\n",
       "      <th>1</th>\n",
       "      <td>business</td>\n",
       "      <td>Pfizer shares drop 4.5% as Moderna says its va...</td>\n",
       "      <td>Krishna Veera Vanamali</td>\n",
       "      <td>Pfizer’s shares fell as much as 4.5% on Monday...</td>\n",
       "    </tr>\n",
       "    <tr>\n",
       "      <th>2</th>\n",
       "      <td>business</td>\n",
       "      <td>How does Moderna's COVID-19 vaccine candidate ...</td>\n",
       "      <td>Pragya Swastik</td>\n",
       "      <td>Moderna's initial results of late-stage trial ...</td>\n",
       "    </tr>\n",
       "    <tr>\n",
       "      <th>3</th>\n",
       "      <td>business</td>\n",
       "      <td>Shutting Delhi markets may prove counterproduc...</td>\n",
       "      <td>Sakshita Khosla</td>\n",
       "      <td>Traders' body CAIT on Tuesday said a proposal ...</td>\n",
       "    </tr>\n",
       "    <tr>\n",
       "      <th>4</th>\n",
       "      <td>business</td>\n",
       "      <td>Musk gets $15bn richer in 2 hours, becomes wor...</td>\n",
       "      <td>Krishna Veera Vanamali</td>\n",
       "      <td>Billionaire Elon Musk added $15 billion to his...</td>\n",
       "    </tr>\n",
       "  </tbody>\n",
       "</table>\n",
       "</div>"
      ],
      "text/plain": [
       "      topic                                              title  \\\n",
       "0  business  Lakshmi Vilas Bank withdrawals capped at ₹25,0...   \n",
       "1  business  Pfizer shares drop 4.5% as Moderna says its va...   \n",
       "2  business  How does Moderna's COVID-19 vaccine candidate ...   \n",
       "3  business  Shutting Delhi markets may prove counterproduc...   \n",
       "4  business  Musk gets $15bn richer in 2 hours, becomes wor...   \n",
       "\n",
       "                   author                                           original  \n",
       "0          Pragya Swastik  The Centre has imposed a 30-day moratorium on ...  \n",
       "1  Krishna Veera Vanamali  Pfizer’s shares fell as much as 4.5% on Monday...  \n",
       "2          Pragya Swastik  Moderna's initial results of late-stage trial ...  \n",
       "3         Sakshita Khosla  Traders' body CAIT on Tuesday said a proposal ...  \n",
       "4  Krishna Veera Vanamali  Billionaire Elon Musk added $15 billion to his...  "
      ]
     },
     "execution_count": 3,
     "metadata": {},
     "output_type": "execute_result"
    }
   ],
   "source": [
    "# Read the news with a fresh scrape\n",
    "\n",
    "news_df = acquire.get_news_articles(cached=False)\n",
    "news_df.head()"
   ]
  },
  {
   "cell_type": "code",
   "execution_count": 4,
   "metadata": {},
   "outputs": [
    {
     "data": {
      "text/html": [
       "<div>\n",
       "<style scoped>\n",
       "    .dataframe tbody tr th:only-of-type {\n",
       "        vertical-align: middle;\n",
       "    }\n",
       "\n",
       "    .dataframe tbody tr th {\n",
       "        vertical-align: top;\n",
       "    }\n",
       "\n",
       "    .dataframe thead th {\n",
       "        text-align: right;\n",
       "    }\n",
       "</style>\n",
       "<table border=\"1\" class=\"dataframe\">\n",
       "  <thead>\n",
       "    <tr style=\"text-align: right;\">\n",
       "      <th></th>\n",
       "      <th>title</th>\n",
       "      <th>original</th>\n",
       "      <th>stemmed</th>\n",
       "      <th>lemmatized</th>\n",
       "      <th>clean</th>\n",
       "    </tr>\n",
       "  </thead>\n",
       "  <tbody>\n",
       "    <tr>\n",
       "      <th>0</th>\n",
       "      <td>Lakshmi Vilas Bank withdrawals capped at ₹25,0...</td>\n",
       "      <td>The Centre has imposed a 30-day moratorium on ...</td>\n",
       "      <td>the centr ha impos a 30day moratorium on laksh...</td>\n",
       "      <td>the centre ha imposed a 30day moratorium on la...</td>\n",
       "      <td>centre imposed 30day moratorium lakshmi vila b...</td>\n",
       "    </tr>\n",
       "    <tr>\n",
       "      <th>1</th>\n",
       "      <td>Pfizer shares drop 4.5% as Moderna says its va...</td>\n",
       "      <td>Pfizer’s shares fell as much as 4.5% on Monday...</td>\n",
       "      <td>pfizer share fell as much as 45 on monday afte...</td>\n",
       "      <td>pfizers share fell a much a 45 on monday after...</td>\n",
       "      <td>pfizers share fell much 45 monday rival modern...</td>\n",
       "    </tr>\n",
       "    <tr>\n",
       "      <th>2</th>\n",
       "      <td>How does Moderna's COVID-19 vaccine candidate ...</td>\n",
       "      <td>Moderna's initial results of late-stage trial ...</td>\n",
       "      <td>moderna' initi result of latestag trial show i...</td>\n",
       "      <td>moderna's initial result of latestage trial sh...</td>\n",
       "      <td>moderna ' initial result latestage trial show ...</td>\n",
       "    </tr>\n",
       "    <tr>\n",
       "      <th>3</th>\n",
       "      <td>Shutting Delhi markets may prove counterproduc...</td>\n",
       "      <td>Traders' body CAIT on Tuesday said a proposal ...</td>\n",
       "      <td>traders' bodi cait on tuesday said a propos to...</td>\n",
       "      <td>traders' body cait on tuesday said a proposal ...</td>\n",
       "      <td>trader ' body cait tuesday said proposal impos...</td>\n",
       "    </tr>\n",
       "    <tr>\n",
       "      <th>4</th>\n",
       "      <td>Musk gets $15bn richer in 2 hours, becomes wor...</td>\n",
       "      <td>Billionaire Elon Musk added $15 billion to his...</td>\n",
       "      <td>billionair elon musk ad 15 billion to hi wealt...</td>\n",
       "      <td>billionaire elon musk added 15 billion to his ...</td>\n",
       "      <td>billionaire elon musk added 15 billion wealth ...</td>\n",
       "    </tr>\n",
       "  </tbody>\n",
       "</table>\n",
       "</div>"
      ],
      "text/plain": [
       "                                               title  \\\n",
       "0  Lakshmi Vilas Bank withdrawals capped at ₹25,0...   \n",
       "1  Pfizer shares drop 4.5% as Moderna says its va...   \n",
       "2  How does Moderna's COVID-19 vaccine candidate ...   \n",
       "3  Shutting Delhi markets may prove counterproduc...   \n",
       "4  Musk gets $15bn richer in 2 hours, becomes wor...   \n",
       "\n",
       "                                            original  \\\n",
       "0  The Centre has imposed a 30-day moratorium on ...   \n",
       "1  Pfizer’s shares fell as much as 4.5% on Monday...   \n",
       "2  Moderna's initial results of late-stage trial ...   \n",
       "3  Traders' body CAIT on Tuesday said a proposal ...   \n",
       "4  Billionaire Elon Musk added $15 billion to his...   \n",
       "\n",
       "                                             stemmed  \\\n",
       "0  the centr ha impos a 30day moratorium on laksh...   \n",
       "1  pfizer share fell as much as 45 on monday afte...   \n",
       "2  moderna' initi result of latestag trial show i...   \n",
       "3  traders' bodi cait on tuesday said a propos to...   \n",
       "4  billionair elon musk ad 15 billion to hi wealt...   \n",
       "\n",
       "                                          lemmatized  \\\n",
       "0  the centre ha imposed a 30day moratorium on la...   \n",
       "1  pfizers share fell a much a 45 on monday after...   \n",
       "2  moderna's initial result of latestage trial sh...   \n",
       "3  traders' body cait on tuesday said a proposal ...   \n",
       "4  billionaire elon musk added 15 billion to his ...   \n",
       "\n",
       "                                               clean  \n",
       "0  centre imposed 30day moratorium lakshmi vila b...  \n",
       "1  pfizers share fell much 45 monday rival modern...  \n",
       "2  moderna ' initial result latestage trial show ...  \n",
       "3  trader ' body cait tuesday said proposal impos...  \n",
       "4  billionaire elon musk added 15 billion wealth ...  "
      ]
     },
     "execution_count": 4,
     "metadata": {},
     "output_type": "execute_result"
    }
   ],
   "source": [
    "# Prepare the text using the helper function\n",
    "\n",
    "news_df = prepare.prep_article_data(news_df, 'original')\n",
    "news_df.head()"
   ]
  },
  {
   "cell_type": "markdown",
   "metadata": {},
   "source": [
    "### 7. Make another dataframe for the Codeup blog posts. Name the dataframe codeup_df."
   ]
  },
  {
   "cell_type": "code",
   "execution_count": 2,
   "metadata": {},
   "outputs": [
    {
     "data": {
      "text/html": [
       "<div>\n",
       "<style scoped>\n",
       "    .dataframe tbody tr th:only-of-type {\n",
       "        vertical-align: middle;\n",
       "    }\n",
       "\n",
       "    .dataframe tbody tr th {\n",
       "        vertical-align: top;\n",
       "    }\n",
       "\n",
       "    .dataframe thead th {\n",
       "        text-align: right;\n",
       "    }\n",
       "</style>\n",
       "<table border=\"1\" class=\"dataframe\">\n",
       "  <thead>\n",
       "    <tr style=\"text-align: right;\">\n",
       "      <th></th>\n",
       "      <th>title</th>\n",
       "      <th>original</th>\n",
       "    </tr>\n",
       "  </thead>\n",
       "  <tbody>\n",
       "    <tr>\n",
       "      <th>0</th>\n",
       "      <td>How We’re Celebrating World Mental Health Day ...</td>\n",
       "      <td>World Mental Health Day is on October 10th. Al...</td>\n",
       "    </tr>\n",
       "    <tr>\n",
       "      <th>1</th>\n",
       "      <td>What is Codeup’s Application Process?</td>\n",
       "      <td>Curious about Codeup’s application process? Wo...</td>\n",
       "    </tr>\n",
       "    <tr>\n",
       "      <th>2</th>\n",
       "      <td>What are the Math and Stats Principles You Nee...</td>\n",
       "      <td>Coming into our Data Science program, you will...</td>\n",
       "    </tr>\n",
       "    <tr>\n",
       "      <th>3</th>\n",
       "      <td>Codeup on Inc. 5000 Fastest Growing Private Co...</td>\n",
       "      <td>We’re excited to announce a huge Codeup achiev...</td>\n",
       "    </tr>\n",
       "    <tr>\n",
       "      <th>4</th>\n",
       "      <td>Codeup Grads Win CivTech Datathon</td>\n",
       "      <td>Many Codeup alumni enjoy competing in hackatho...</td>\n",
       "    </tr>\n",
       "    <tr>\n",
       "      <th>5</th>\n",
       "      <td>What to Expect at Codeup</td>\n",
       "      <td>Setting Expectations for Life Before, During, ...</td>\n",
       "    </tr>\n",
       "    <tr>\n",
       "      <th>6</th>\n",
       "      <td>How to Succeed in a Coding Bootcamp</td>\n",
       "      <td>We held a virtual event called “How to Succeed...</td>\n",
       "    </tr>\n",
       "    <tr>\n",
       "      <th>7</th>\n",
       "      <td>Build Your Career in Tech: Advice from Alumni!</td>\n",
       "      <td>Bryan Walsh, Codeup Web Development alum, and ...</td>\n",
       "    </tr>\n",
       "    <tr>\n",
       "      <th>8</th>\n",
       "      <td>What is the Transition into Data Science Like?</td>\n",
       "      <td>Alumni Katy Salts and Brandi Reger joined us a...</td>\n",
       "    </tr>\n",
       "    <tr>\n",
       "      <th>9</th>\n",
       "      <td>Codeup Launches Houston!</td>\n",
       "      <td>Houston, we have a problem: there aren’t enoug...</td>\n",
       "    </tr>\n",
       "    <tr>\n",
       "      <th>10</th>\n",
       "      <td>From Slacker to Data Scientist: Journey to Dat...</td>\n",
       "      <td>Butterflies in my belly; my stomach is tied up...</td>\n",
       "    </tr>\n",
       "    <tr>\n",
       "      <th>11</th>\n",
       "      <td>Introducing Our Salary Refund Guarantee</td>\n",
       "      <td>Here at Codeup, we believe it’s time to revolu...</td>\n",
       "    </tr>\n",
       "    <tr>\n",
       "      <th>12</th>\n",
       "      <td>Announcing: The Annie Easley Scholarship to Su...</td>\n",
       "      <td>We have an exciting announcement! We’re launch...</td>\n",
       "    </tr>\n",
       "    <tr>\n",
       "      <th>13</th>\n",
       "      <td>What is Machine Learning?</td>\n",
       "      <td>There’s a lot we can learn about machines, and...</td>\n",
       "    </tr>\n",
       "    <tr>\n",
       "      <th>14</th>\n",
       "      <td>Your Education is an Investment</td>\n",
       "      <td>You have many options regarding educational ro...</td>\n",
       "    </tr>\n",
       "    <tr>\n",
       "      <th>15</th>\n",
       "      <td>What Data Science Career is For You?</td>\n",
       "      <td>If you’re struggling to see yourself as a data...</td>\n",
       "    </tr>\n",
       "    <tr>\n",
       "      <th>16</th>\n",
       "      <td>What is Python?</td>\n",
       "      <td>If you’ve been digging around our website or r...</td>\n",
       "    </tr>\n",
       "    <tr>\n",
       "      <th>17</th>\n",
       "      <td>How Codeup Alumni are Helping to Make Water</td>\n",
       "      <td>Imagine having a kit mailed to you with all th...</td>\n",
       "    </tr>\n",
       "    <tr>\n",
       "      <th>18</th>\n",
       "      <td>Alumni Share their Journey into Web Development</td>\n",
       "      <td>Everyone starts somewhere. Many developers out...</td>\n",
       "    </tr>\n",
       "    <tr>\n",
       "      <th>19</th>\n",
       "      <td>How Codeup Alumni Helped Dallas Youth Fight CO...</td>\n",
       "      <td>Three of our Web Development alumni from Dalla...</td>\n",
       "    </tr>\n",
       "  </tbody>\n",
       "</table>\n",
       "</div>"
      ],
      "text/plain": [
       "                                                title  \\\n",
       "0   How We’re Celebrating World Mental Health Day ...   \n",
       "1               What is Codeup’s Application Process?   \n",
       "2   What are the Math and Stats Principles You Nee...   \n",
       "3   Codeup on Inc. 5000 Fastest Growing Private Co...   \n",
       "4                   Codeup Grads Win CivTech Datathon   \n",
       "5                            What to Expect at Codeup   \n",
       "6                 How to Succeed in a Coding Bootcamp   \n",
       "7      Build Your Career in Tech: Advice from Alumni!   \n",
       "8      What is the Transition into Data Science Like?   \n",
       "9                            Codeup Launches Houston!   \n",
       "10  From Slacker to Data Scientist: Journey to Dat...   \n",
       "11            Introducing Our Salary Refund Guarantee   \n",
       "12  Announcing: The Annie Easley Scholarship to Su...   \n",
       "13                          What is Machine Learning?   \n",
       "14                    Your Education is an Investment   \n",
       "15               What Data Science Career is For You?   \n",
       "16                                    What is Python?   \n",
       "17        How Codeup Alumni are Helping to Make Water   \n",
       "18    Alumni Share their Journey into Web Development   \n",
       "19  How Codeup Alumni Helped Dallas Youth Fight CO...   \n",
       "\n",
       "                                             original  \n",
       "0   World Mental Health Day is on October 10th. Al...  \n",
       "1   Curious about Codeup’s application process? Wo...  \n",
       "2   Coming into our Data Science program, you will...  \n",
       "3   We’re excited to announce a huge Codeup achiev...  \n",
       "4   Many Codeup alumni enjoy competing in hackatho...  \n",
       "5   Setting Expectations for Life Before, During, ...  \n",
       "6   We held a virtual event called “How to Succeed...  \n",
       "7   Bryan Walsh, Codeup Web Development alum, and ...  \n",
       "8   Alumni Katy Salts and Brandi Reger joined us a...  \n",
       "9   Houston, we have a problem: there aren’t enoug...  \n",
       "10  Butterflies in my belly; my stomach is tied up...  \n",
       "11  Here at Codeup, we believe it’s time to revolu...  \n",
       "12  We have an exciting announcement! We’re launch...  \n",
       "13  There’s a lot we can learn about machines, and...  \n",
       "14  You have many options regarding educational ro...  \n",
       "15  If you’re struggling to see yourself as a data...  \n",
       "16  If you’ve been digging around our website or r...  \n",
       "17  Imagine having a kit mailed to you with all th...  \n",
       "18  Everyone starts somewhere. Many developers out...  \n",
       "19  Three of our Web Development alumni from Dalla...  "
      ]
     },
     "execution_count": 2,
     "metadata": {},
     "output_type": "execute_result"
    }
   ],
   "source": [
    "# Read the blogs with a fresh scrape\n",
    "\n",
    "codeup_df = acquire.acquire_codeup_blogs(urls=acquire.get_blog_urls(), cached=False)\n",
    "codeup_df"
   ]
  },
  {
   "cell_type": "code",
   "execution_count": 3,
   "metadata": {},
   "outputs": [
    {
     "data": {
      "text/html": [
       "<div>\n",
       "<style scoped>\n",
       "    .dataframe tbody tr th:only-of-type {\n",
       "        vertical-align: middle;\n",
       "    }\n",
       "\n",
       "    .dataframe tbody tr th {\n",
       "        vertical-align: top;\n",
       "    }\n",
       "\n",
       "    .dataframe thead th {\n",
       "        text-align: right;\n",
       "    }\n",
       "</style>\n",
       "<table border=\"1\" class=\"dataframe\">\n",
       "  <thead>\n",
       "    <tr style=\"text-align: right;\">\n",
       "      <th></th>\n",
       "      <th>title</th>\n",
       "      <th>original</th>\n",
       "      <th>stemmed</th>\n",
       "      <th>lemmatized</th>\n",
       "      <th>clean</th>\n",
       "    </tr>\n",
       "  </thead>\n",
       "  <tbody>\n",
       "    <tr>\n",
       "      <th>0</th>\n",
       "      <td>How We’re Celebrating World Mental Health Day ...</td>\n",
       "      <td>World Mental Health Day is on October 10th. Al...</td>\n",
       "      <td>world mental health day is on octob 10th all o...</td>\n",
       "      <td>world mental health day is on october 10th all...</td>\n",
       "      <td>world mental health day october 10th u codeup ...</td>\n",
       "    </tr>\n",
       "    <tr>\n",
       "      <th>1</th>\n",
       "      <td>What is Codeup’s Application Process?</td>\n",
       "      <td>Curious about Codeup’s application process? Wo...</td>\n",
       "      <td>curiou about codeup applic process wonder whi ...</td>\n",
       "      <td>curious about codeups application process wond...</td>\n",
       "      <td>curious codeups application process wondering ...</td>\n",
       "    </tr>\n",
       "    <tr>\n",
       "      <th>2</th>\n",
       "      <td>What are the Math and Stats Principles You Nee...</td>\n",
       "      <td>Coming into our Data Science program, you will...</td>\n",
       "      <td>come into our data scienc program you will nee...</td>\n",
       "      <td>coming into our data science program you will ...</td>\n",
       "      <td>coming data science program need know math sta...</td>\n",
       "    </tr>\n",
       "    <tr>\n",
       "      <th>3</th>\n",
       "      <td>Codeup on Inc. 5000 Fastest Growing Private Co...</td>\n",
       "      <td>We’re excited to announce a huge Codeup achiev...</td>\n",
       "      <td>were excit to announc a huge codeup achiev inc...</td>\n",
       "      <td>were excited to announce a huge codeup achieve...</td>\n",
       "      <td>excited announce huge codeup achievement inc m...</td>\n",
       "    </tr>\n",
       "    <tr>\n",
       "      <th>4</th>\n",
       "      <td>Codeup Grads Win CivTech Datathon</td>\n",
       "      <td>Many Codeup alumni enjoy competing in hackatho...</td>\n",
       "      <td>mani codeup alumni enjoy compet in hackathon a...</td>\n",
       "      <td>many codeup alumnus enjoy competing in hackath...</td>\n",
       "      <td>many codeup alumnus enjoy competing hackathons...</td>\n",
       "    </tr>\n",
       "  </tbody>\n",
       "</table>\n",
       "</div>"
      ],
      "text/plain": [
       "                                               title  \\\n",
       "0  How We’re Celebrating World Mental Health Day ...   \n",
       "1              What is Codeup’s Application Process?   \n",
       "2  What are the Math and Stats Principles You Nee...   \n",
       "3  Codeup on Inc. 5000 Fastest Growing Private Co...   \n",
       "4                  Codeup Grads Win CivTech Datathon   \n",
       "\n",
       "                                            original  \\\n",
       "0  World Mental Health Day is on October 10th. Al...   \n",
       "1  Curious about Codeup’s application process? Wo...   \n",
       "2  Coming into our Data Science program, you will...   \n",
       "3  We’re excited to announce a huge Codeup achiev...   \n",
       "4  Many Codeup alumni enjoy competing in hackatho...   \n",
       "\n",
       "                                             stemmed  \\\n",
       "0  world mental health day is on octob 10th all o...   \n",
       "1  curiou about codeup applic process wonder whi ...   \n",
       "2  come into our data scienc program you will nee...   \n",
       "3  were excit to announc a huge codeup achiev inc...   \n",
       "4  mani codeup alumni enjoy compet in hackathon a...   \n",
       "\n",
       "                                          lemmatized  \\\n",
       "0  world mental health day is on october 10th all...   \n",
       "1  curious about codeups application process wond...   \n",
       "2  coming into our data science program you will ...   \n",
       "3  were excited to announce a huge codeup achieve...   \n",
       "4  many codeup alumnus enjoy competing in hackath...   \n",
       "\n",
       "                                               clean  \n",
       "0  world mental health day october 10th u codeup ...  \n",
       "1  curious codeups application process wondering ...  \n",
       "2  coming data science program need know math sta...  \n",
       "3  excited announce huge codeup achievement inc m...  \n",
       "4  many codeup alumnus enjoy competing hackathons...  "
      ]
     },
     "execution_count": 3,
     "metadata": {},
     "output_type": "execute_result"
    }
   ],
   "source": [
    "# Prepare the text using the helper function\n",
    "\n",
    "codeup_df = prepare.prep_article_data(codeup_df, 'original')\n",
    "codeup_df.head()"
   ]
  }
 ],
 "metadata": {
  "kernelspec": {
   "display_name": "Python 3",
   "language": "python",
   "name": "python3"
  },
  "language_info": {
   "codemirror_mode": {
    "name": "ipython",
    "version": 3
   },
   "file_extension": ".py",
   "mimetype": "text/x-python",
   "name": "python",
   "nbconvert_exporter": "python",
   "pygments_lexer": "ipython3",
   "version": "3.7.6"
  }
 },
 "nbformat": 4,
 "nbformat_minor": 4
}
