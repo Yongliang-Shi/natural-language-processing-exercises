{
 "cells": [
  {
   "cell_type": "code",
   "execution_count": null,
   "metadata": {},
   "outputs": [],
   "source": [
    "# Import libraries\n",
    "\n",
    "import numpy as np\n",
    "import pandas as pd\n",
    "\n",
    "import matplotlib.pyplot as plt\n",
    "import seaborn as sns\n",
    "\n",
    "import re\n",
    "import unicodedata\n",
    "import nltk\n",
    "from nltk.tokenize.toktok import ToktokTokenizer\n",
    "from nltk.corpus import stopwords\n",
    "from wordcloud import WordCloud\n",
    "\n",
    "import acquire, prepare"
   ]
  },
  {
   "cell_type": "markdown",
   "metadata": {},
   "source": [
    "## 1. Spam Data\n",
    "### a. Load and preapre the spam data set"
   ]
  },
  {
   "cell_type": "code",
   "execution_count": null,
   "metadata": {},
   "outputs": [],
   "source": [
    "df = pd.read_csv('spam.csv', encoding='latin-1', usecols=[0,1])\n",
    "df.columns = ['label', 'text']\n",
    "df.head()"
   ]
  },
  {
   "cell_type": "code",
   "execution_count": null,
   "metadata": {},
   "outputs": [],
   "source": [
    "# Get total counts and the proportion of ham vs. spam\n",
    "\n",
    "labels = pd.concat([df.label.value_counts(),\n",
    "                    df.label.value_counts(normalize=True)], axis=1)\n",
    "\n",
    "# Renmae the columns\n",
    "labels.columns = ['n', 'percent']\n",
    "\n",
    "# Print the labels\n",
    "labels"
   ]
  },
  {
   "cell_type": "code",
   "execution_count": null,
   "metadata": {},
   "outputs": [],
   "source": [
    "# Clean the text using helper function\n",
    "df = prepare.prep_spam_data(df, 'text')\n",
    "\n",
    "# Take a peak at the cleaned dataset\n",
    "df.head()"
   ]
  },
  {
   "cell_type": "code",
   "execution_count": null,
   "metadata": {},
   "outputs": [],
   "source": [
    "# Add a column with list of words\n",
    "words = [re.sub(r'([^a-z0-9\\s]\\s.\\s)', '', doc).split() for doc in df.clean]\n",
    "\n",
    "# column will named words, and the column will contain lists of the words in each doc\n",
    "df = pd.concat([df, pd.DataFrame({'words': words})], axis=1)\n",
    "df.head()"
   ]
  },
  {
   "cell_type": "code",
   "execution_count": null,
   "metadata": {},
   "outputs": [],
   "source": [
    "# To finalize the preparation for exploration:\n",
    "# 1. Add a feature that is the length of each document\n",
    "# 2. Build a set of ham_words and spam_words to explore\n",
    "\n",
    "ham_words = ' '.join(df[df.label == 'ham'].clean)\n",
    "spam_words = ' '.join(df[df.label == 'spam'].clean)\n",
    "\n",
    "# Remove any single character\n",
    "\n",
    "ham_words = re.sub(r'\\s.\\s', '', ham_words)\n",
    "spam_words = re.sub(r'\\s.\\s', '', spam_words)\n",
    "\n",
    "# Take a look at the spam_words\n",
    "spam_words[:200]"
   ]
  },
  {
   "cell_type": "markdown",
   "metadata": {},
   "source": [
    "### b. Create and explore bigrams for the spam data. Visualize them with a word cloud. How do they compare with the ham bigrams?"
   ]
  },
  {
   "cell_type": "code",
   "execution_count": null,
   "metadata": {},
   "outputs": [],
   "source": [
    "# Use nltk to create a column with bigrams\n",
    "\n",
    "df['bigrams'] = [list(nltk.ngrams(words, 2)) for words in df.words]\n",
    "df.head()"
   ]
  },
  {
   "cell_type": "code",
   "execution_count": null,
   "metadata": {
    "scrolled": false
   },
   "outputs": [],
   "source": [
    "# Create the top 20 most frequent bigrams for the spam data\n",
    "\n",
    "spam_bigrams = pd.Series(list(nltk.ngrams(spam_words.split(), 2))).value_counts().head(20)\n",
    "spam_bigrams.head()"
   ]
  },
  {
   "cell_type": "code",
   "execution_count": null,
   "metadata": {},
   "outputs": [],
   "source": [
    "# Create the top 20 most frequent bigrams for the ham data\n",
    "\n",
    "ham_bigrams = pd.Series(list(nltk.ngrams(ham_words.split(), 2))).value_counts().head(20)\n",
    "ham_bigrams.head()"
   ]
  },
  {
   "cell_type": "code",
   "execution_count": null,
   "metadata": {
    "scrolled": false
   },
   "outputs": [],
   "source": [
    "# Visualize the top 20 most frequent bigrams for spam and ham datasets\n",
    "\n",
    "fig, (ax1, ax2) = plt.subplots(1, 2, figsize=(10, 10))\n",
    "\n",
    "ham_bigrams.plot.barh(ax=ax1, title='20 most frequenctly occurring ham bigrams',\n",
    "                      xlabel='Frequency', ylabel='Bigram')\n",
    "\n",
    "spam_bigrams.plot.barh(ax=ax2, title='20 most frequently occurring spam bigrams',\n",
    "                       xlabel='Frequency', ylabel='Bigram')\n",
    "\n",
    "plt.tight_layout()\n",
    "plt.show()"
   ]
  },
  {
   "cell_type": "code",
   "execution_count": null,
   "metadata": {},
   "outputs": [],
   "source": [
    "# Convert to dictionary to fit to the 'generate_from_frequencies' method\n",
    "\n",
    "spam_bigrams_dict = {k[0] + ' ' + k[1]: v for k, v in spam_bigrams.to_dict().items()}\n",
    "ham_bigrams_dict = {k[0] + ' ' + k[1]: v for k, v in ham_bigrams.to_dict().items()}\n",
    "\n",
    "spam_bigrams_dict"
   ]
  },
  {
   "cell_type": "code",
   "execution_count": null,
   "metadata": {},
   "outputs": [],
   "source": [
    "# Create a WordCloud object for the bigrams\n",
    "\n",
    "img_spam = WordCloud(background_color = 'white', \n",
    "                width=800, height=400).generate_from_frequencies(spam_bigrams_dict)\n",
    "\n",
    "img_ham = WordCloud(background_color = 'white', \n",
    "                width=800, height=400).generate_from_frequencies(ham_bigrams_dict)\n",
    "\n",
    "img_spam"
   ]
  },
  {
   "cell_type": "code",
   "execution_count": null,
   "metadata": {},
   "outputs": [],
   "source": [
    "plt.figure(figsize=(13, 13))\n",
    "\n",
    "plt.subplot(121)\n",
    "plt.imshow(img_spam)\n",
    "plt.axis('off')\n",
    "\n",
    "plt.subplot(122)\n",
    "plt.imshow(img_ham)\n",
    "plt.axis('off')\n",
    "\n",
    "plt.tight_layout()\n",
    "plt.show()"
   ]
  },
  {
   "cell_type": "markdown",
   "metadata": {},
   "source": [
    "### c. Is there any overlap in the bigrams for the spam data and the ham data?"
   ]
  },
  {
   "cell_type": "code",
   "execution_count": null,
   "metadata": {},
   "outputs": [],
   "source": [
    "# Use set operation to answer the question: no overlap in the top 20 most frequent bigrams. \n",
    "\n",
    "set(spam_bigrams.index) & set(ham_bigrams.index)"
   ]
  },
  {
   "cell_type": "markdown",
   "metadata": {},
   "source": [
    "### d. Create and explore with trigrams (i.e. a n-gram with an n of 3) for both the spam and ham data."
   ]
  },
  {
   "cell_type": "code",
   "execution_count": null,
   "metadata": {},
   "outputs": [],
   "source": [
    "# Use nltk to create a column with bigrams\n",
    "\n",
    "df['trigrams'] = [list(nltk.ngrams(words, 3)) for words in df.words]\n",
    "df.head()"
   ]
  },
  {
   "cell_type": "code",
   "execution_count": null,
   "metadata": {},
   "outputs": [],
   "source": [
    "# Create the top 20 most frequent trigrams for the spam and ham data\n",
    "\n",
    "spam_trigrams = pd.Series(list(nltk.ngrams(spam_words.split(), 3))).value_counts().head(20)\n",
    "ham_trigrams = pd.Series(list(nltk.ngrams(ham_words.split(), 3))).value_counts().head(20)\n",
    "\n",
    "spam_trigrams"
   ]
  },
  {
   "cell_type": "code",
   "execution_count": null,
   "metadata": {},
   "outputs": [],
   "source": [
    "# Visualize the top 20 most frequent trigrams for spam and ham datasets\n",
    "\n",
    "fig, (ax1, ax2) = plt.subplots(1, 2, figsize=(10, 10))\n",
    "\n",
    "ham_trigrams.plot.barh(ax=ax1, title='20 most frequenctly occurring ham trigrams',\n",
    "                       xlabel='Frequency', ylabel='Trigram')\n",
    "\n",
    "spam_trigrams.plot.barh(ax=ax2, title='20 most frequently occurring spam trigrams',\n",
    "                        xlabel='Frequency', ylabel='Trigram')\n",
    "\n",
    "plt.tight_layout()\n",
    "plt.show()"
   ]
  },
  {
   "cell_type": "code",
   "execution_count": null,
   "metadata": {},
   "outputs": [],
   "source": [
    "# Convert to dictionary to fit to the 'generate_from_frequencies' method\n",
    "\n",
    "spam_trigrams_dict = {k[0] + ' ' + k[1] + ' ' + k[2]: v for k, v in spam_trigrams.to_dict().items()}\n",
    "ham_trigrams_dict = {k[0] + ' ' + k[1] + ' ' + k[2]: v for k, v in ham_trigrams.to_dict().items()}\n",
    "\n",
    "spam_trigrams_dict"
   ]
  },
  {
   "cell_type": "code",
   "execution_count": null,
   "metadata": {},
   "outputs": [],
   "source": [
    "# Create a WordCloud object for the bigrams\n",
    "\n",
    "img_spam = WordCloud(background_color = 'white', \n",
    "                width=800, height=400).generate_from_frequencies(spam_trigrams_dict)\n",
    "\n",
    "img_ham = WordCloud(background_color = 'white', \n",
    "                width=800, height=400).generate_from_frequencies(ham_trigrams_dict)\n",
    "\n",
    "plt.figure(figsize=(13, 13))\n",
    "\n",
    "plt.subplot(121)\n",
    "plt.imshow(img_spam)\n",
    "plt.axis('off')\n",
    "\n",
    "plt.subplot(122)\n",
    "plt.imshow(img_ham)\n",
    "plt.axis('off')\n",
    "\n",
    "plt.tight_layout()\n",
    "plt.show()"
   ]
  },
  {
   "cell_type": "markdown",
   "metadata": {},
   "source": [
    "### 2. Explore the blog articles using the techniques discussed in the exploration lesson."
   ]
  },
  {
   "cell_type": "code",
   "execution_count": null,
   "metadata": {},
   "outputs": [],
   "source": [
    "# Load the blog articles data using helping function\n",
    "\n",
    "urls = acquire.get_blog_urls()\n",
    "df = acquire.acquire_codeup_blogs(urls, cached=False)"
   ]
  },
  {
   "cell_type": "code",
   "execution_count": 86,
   "metadata": {},
   "outputs": [
    {
     "name": "stdout",
     "output_type": "stream",
     "text": [
      "(20, 2)\n"
     ]
    },
    {
     "data": {
      "text/html": [
       "<div>\n",
       "<style scoped>\n",
       "    .dataframe tbody tr th:only-of-type {\n",
       "        vertical-align: middle;\n",
       "    }\n",
       "\n",
       "    .dataframe tbody tr th {\n",
       "        vertical-align: top;\n",
       "    }\n",
       "\n",
       "    .dataframe thead th {\n",
       "        text-align: right;\n",
       "    }\n",
       "</style>\n",
       "<table border=\"1\" class=\"dataframe\">\n",
       "  <thead>\n",
       "    <tr style=\"text-align: right;\">\n",
       "      <th></th>\n",
       "      <th>title</th>\n",
       "      <th>original</th>\n",
       "    </tr>\n",
       "  </thead>\n",
       "  <tbody>\n",
       "    <tr>\n",
       "      <th>0</th>\n",
       "      <td>What is Machine Learning?</td>\n",
       "      <td>There’s a lot we can learn about machines, and...</td>\n",
       "    </tr>\n",
       "    <tr>\n",
       "      <th>1</th>\n",
       "      <td>Introducing Our Salary Refund Guarantee</td>\n",
       "      <td>Here at Codeup, we believe it’s time to revolu...</td>\n",
       "    </tr>\n",
       "    <tr>\n",
       "      <th>2</th>\n",
       "      <td>What is Python?</td>\n",
       "      <td>If you’ve been digging around our website or r...</td>\n",
       "    </tr>\n",
       "    <tr>\n",
       "      <th>3</th>\n",
       "      <td>Alumni Share their Journey into Web Development</td>\n",
       "      <td>Everyone starts somewhere. Many developers out...</td>\n",
       "    </tr>\n",
       "    <tr>\n",
       "      <th>4</th>\n",
       "      <td>Codeup Grads Win CivTech Datathon</td>\n",
       "      <td>Many Codeup alumni enjoy competing in hackatho...</td>\n",
       "    </tr>\n",
       "  </tbody>\n",
       "</table>\n",
       "</div>"
      ],
      "text/plain": [
       "                                             title  \\\n",
       "0                        What is Machine Learning?   \n",
       "1          Introducing Our Salary Refund Guarantee   \n",
       "2                                  What is Python?   \n",
       "3  Alumni Share their Journey into Web Development   \n",
       "4                Codeup Grads Win CivTech Datathon   \n",
       "\n",
       "                                            original  \n",
       "0  There’s a lot we can learn about machines, and...  \n",
       "1  Here at Codeup, we believe it’s time to revolu...  \n",
       "2  If you’ve been digging around our website or r...  \n",
       "3  Everyone starts somewhere. Many developers out...  \n",
       "4  Many Codeup alumni enjoy competing in hackatho...  "
      ]
     },
     "execution_count": 86,
     "metadata": {},
     "output_type": "execute_result"
    }
   ],
   "source": [
    "# Print the shape\n",
    "print(df.shape)\n",
    "\n",
    "# Take a peek at the dataframe\n",
    "df.head()"
   ]
  },
  {
   "cell_type": "code",
   "execution_count": 88,
   "metadata": {},
   "outputs": [
    {
     "data": {
      "text/html": [
       "<div>\n",
       "<style scoped>\n",
       "    .dataframe tbody tr th:only-of-type {\n",
       "        vertical-align: middle;\n",
       "    }\n",
       "\n",
       "    .dataframe tbody tr th {\n",
       "        vertical-align: top;\n",
       "    }\n",
       "\n",
       "    .dataframe thead th {\n",
       "        text-align: right;\n",
       "    }\n",
       "</style>\n",
       "<table border=\"1\" class=\"dataframe\">\n",
       "  <thead>\n",
       "    <tr style=\"text-align: right;\">\n",
       "      <th></th>\n",
       "      <th>title</th>\n",
       "      <th>original</th>\n",
       "      <th>stemmed</th>\n",
       "      <th>lemmatized</th>\n",
       "      <th>clean</th>\n",
       "    </tr>\n",
       "  </thead>\n",
       "  <tbody>\n",
       "    <tr>\n",
       "      <th>0</th>\n",
       "      <td>What is Machine Learning?</td>\n",
       "      <td>There’s a lot we can learn about machines, and...</td>\n",
       "      <td>there a lot we can learn about machin and ther...</td>\n",
       "      <td>there a lot we can learn about machine and the...</td>\n",
       "      <td>there lot learn machine there lot machine lear...</td>\n",
       "    </tr>\n",
       "    <tr>\n",
       "      <th>1</th>\n",
       "      <td>Introducing Our Salary Refund Guarantee</td>\n",
       "      <td>Here at Codeup, we believe it’s time to revolu...</td>\n",
       "      <td>here at codeup we believ it time to revolution...</td>\n",
       "      <td>here at codeup we believe it time to revolutio...</td>\n",
       "      <td>codeup believe time revolutionize hiring launc...</td>\n",
       "    </tr>\n",
       "    <tr>\n",
       "      <th>2</th>\n",
       "      <td>What is Python?</td>\n",
       "      <td>If you’ve been digging around our website or r...</td>\n",
       "      <td>if youv been dig around our websit or research...</td>\n",
       "      <td>if youve been digging around our website or re...</td>\n",
       "      <td>youve digging around website researching tech ...</td>\n",
       "    </tr>\n",
       "    <tr>\n",
       "      <th>3</th>\n",
       "      <td>Alumni Share their Journey into Web Development</td>\n",
       "      <td>Everyone starts somewhere. Many developers out...</td>\n",
       "      <td>everyon start somewher mani develop out there ...</td>\n",
       "      <td>everyone start somewhere many developer out th...</td>\n",
       "      <td>everyone start somewhere many developer didnt ...</td>\n",
       "    </tr>\n",
       "    <tr>\n",
       "      <th>4</th>\n",
       "      <td>Codeup Grads Win CivTech Datathon</td>\n",
       "      <td>Many Codeup alumni enjoy competing in hackatho...</td>\n",
       "      <td>mani codeup alumni enjoy compet in hackathon a...</td>\n",
       "      <td>many codeup alumnus enjoy competing in hackath...</td>\n",
       "      <td>many codeup alumnus enjoy competing hackathons...</td>\n",
       "    </tr>\n",
       "  </tbody>\n",
       "</table>\n",
       "</div>"
      ],
      "text/plain": [
       "                                             title  \\\n",
       "0                        What is Machine Learning?   \n",
       "1          Introducing Our Salary Refund Guarantee   \n",
       "2                                  What is Python?   \n",
       "3  Alumni Share their Journey into Web Development   \n",
       "4                Codeup Grads Win CivTech Datathon   \n",
       "\n",
       "                                            original  \\\n",
       "0  There’s a lot we can learn about machines, and...   \n",
       "1  Here at Codeup, we believe it’s time to revolu...   \n",
       "2  If you’ve been digging around our website or r...   \n",
       "3  Everyone starts somewhere. Many developers out...   \n",
       "4  Many Codeup alumni enjoy competing in hackatho...   \n",
       "\n",
       "                                             stemmed  \\\n",
       "0  there a lot we can learn about machin and ther...   \n",
       "1  here at codeup we believ it time to revolution...   \n",
       "2  if youv been dig around our websit or research...   \n",
       "3  everyon start somewher mani develop out there ...   \n",
       "4  mani codeup alumni enjoy compet in hackathon a...   \n",
       "\n",
       "                                          lemmatized  \\\n",
       "0  there a lot we can learn about machine and the...   \n",
       "1  here at codeup we believe it time to revolutio...   \n",
       "2  if youve been digging around our website or re...   \n",
       "3  everyone start somewhere many developer out th...   \n",
       "4  many codeup alumnus enjoy competing in hackath...   \n",
       "\n",
       "                                               clean  \n",
       "0  there lot learn machine there lot machine lear...  \n",
       "1  codeup believe time revolutionize hiring launc...  \n",
       "2  youve digging around website researching tech ...  \n",
       "3  everyone start somewhere many developer didnt ...  \n",
       "4  many codeup alumnus enjoy competing hackathons...  "
      ]
     },
     "execution_count": 88,
     "metadata": {},
     "output_type": "execute_result"
    }
   ],
   "source": [
    "# Clean the dataset using helper function\n",
    "\n",
    "df = prepare.prep_article_data(df, 'original')\n",
    "df.head()"
   ]
  },
  {
   "cell_type": "code",
   "execution_count": 97,
   "metadata": {},
   "outputs": [
    {
     "data": {
      "text/plain": [
       "0                             What is Machine Learning?\n",
       "1               Introducing Our Salary Refund Guarantee\n",
       "2                                       What is Python?\n",
       "3       Alumni Share their Journey into Web Development\n",
       "4                     Codeup Grads Win CivTech Datathon\n",
       "5        What is the Transition into Data Science Like?\n",
       "6     Codeup on Inc. 5000 Fastest Growing Private Co...\n",
       "7                 What is Codeup’s Application Process?\n",
       "8                              Codeup Launches Houston!\n",
       "9     How Codeup Alumni Helped Dallas Youth Fight CO...\n",
       "10    Announcing: The Annie Easley Scholarship to Su...\n",
       "11                 What Data Science Career is For You?\n",
       "12                  How to Succeed in a Coding Bootcamp\n",
       "13    How We’re Celebrating World Mental Health Day ...\n",
       "14    What are the Math and Stats Principles You Nee...\n",
       "15           What is an Employer Influenced Curriculum?\n",
       "16                             What to Expect at Codeup\n",
       "17                      Your Education is an Investment\n",
       "18          How Codeup Alumni are Helping to Make Water\n",
       "19       Build Your Career in Tech: Advice from Alumni!\n",
       "Name: title, dtype: object"
      ]
     },
     "execution_count": 97,
     "metadata": {},
     "output_type": "execute_result"
    }
   ],
   "source": [
    "# Print the title\n",
    "df.title"
   ]
  },
  {
   "cell_type": "markdown",
   "metadata": {},
   "source": [
    "**Takeaways**\n",
    "- I am interested in how to succedd in the codeup, so I will focus on title[12]."
   ]
  },
  {
   "cell_type": "code",
   "execution_count": 91,
   "metadata": {},
   "outputs": [
    {
     "data": {
      "text/html": [
       "<div>\n",
       "<style scoped>\n",
       "    .dataframe tbody tr th:only-of-type {\n",
       "        vertical-align: middle;\n",
       "    }\n",
       "\n",
       "    .dataframe tbody tr th {\n",
       "        vertical-align: top;\n",
       "    }\n",
       "\n",
       "    .dataframe thead th {\n",
       "        text-align: right;\n",
       "    }\n",
       "</style>\n",
       "<table border=\"1\" class=\"dataframe\">\n",
       "  <thead>\n",
       "    <tr style=\"text-align: right;\">\n",
       "      <th></th>\n",
       "      <th>title</th>\n",
       "      <th>original</th>\n",
       "      <th>stemmed</th>\n",
       "      <th>lemmatized</th>\n",
       "      <th>clean</th>\n",
       "      <th>words</th>\n",
       "    </tr>\n",
       "  </thead>\n",
       "  <tbody>\n",
       "    <tr>\n",
       "      <th>0</th>\n",
       "      <td>What is Machine Learning?</td>\n",
       "      <td>There’s a lot we can learn about machines, and...</td>\n",
       "      <td>there a lot we can learn about machin and ther...</td>\n",
       "      <td>there a lot we can learn about machine and the...</td>\n",
       "      <td>there lot learn machine there lot machine lear...</td>\n",
       "      <td>[there, lot, learn, machine, there, lot, machi...</td>\n",
       "    </tr>\n",
       "    <tr>\n",
       "      <th>1</th>\n",
       "      <td>Introducing Our Salary Refund Guarantee</td>\n",
       "      <td>Here at Codeup, we believe it’s time to revolu...</td>\n",
       "      <td>here at codeup we believ it time to revolution...</td>\n",
       "      <td>here at codeup we believe it time to revolutio...</td>\n",
       "      <td>codeup believe time revolutionize hiring launc...</td>\n",
       "      <td>[codeup, believe, time, revolutionize, hiring,...</td>\n",
       "    </tr>\n",
       "    <tr>\n",
       "      <th>2</th>\n",
       "      <td>What is Python?</td>\n",
       "      <td>If you’ve been digging around our website or r...</td>\n",
       "      <td>if youv been dig around our websit or research...</td>\n",
       "      <td>if youve been digging around our website or re...</td>\n",
       "      <td>youve digging around website researching tech ...</td>\n",
       "      <td>[youve, digging, around, website, researching,...</td>\n",
       "    </tr>\n",
       "    <tr>\n",
       "      <th>3</th>\n",
       "      <td>Alumni Share their Journey into Web Development</td>\n",
       "      <td>Everyone starts somewhere. Many developers out...</td>\n",
       "      <td>everyon start somewher mani develop out there ...</td>\n",
       "      <td>everyone start somewhere many developer out th...</td>\n",
       "      <td>everyone start somewhere many developer didnt ...</td>\n",
       "      <td>[everyone, start, somewhere, many, developer, ...</td>\n",
       "    </tr>\n",
       "    <tr>\n",
       "      <th>4</th>\n",
       "      <td>Codeup Grads Win CivTech Datathon</td>\n",
       "      <td>Many Codeup alumni enjoy competing in hackatho...</td>\n",
       "      <td>mani codeup alumni enjoy compet in hackathon a...</td>\n",
       "      <td>many codeup alumnus enjoy competing in hackath...</td>\n",
       "      <td>many codeup alumnus enjoy competing hackathons...</td>\n",
       "      <td>[many, codeup, alumnus, enjoy, competing, hack...</td>\n",
       "    </tr>\n",
       "  </tbody>\n",
       "</table>\n",
       "</div>"
      ],
      "text/plain": [
       "                                             title  \\\n",
       "0                        What is Machine Learning?   \n",
       "1          Introducing Our Salary Refund Guarantee   \n",
       "2                                  What is Python?   \n",
       "3  Alumni Share their Journey into Web Development   \n",
       "4                Codeup Grads Win CivTech Datathon   \n",
       "\n",
       "                                            original  \\\n",
       "0  There’s a lot we can learn about machines, and...   \n",
       "1  Here at Codeup, we believe it’s time to revolu...   \n",
       "2  If you’ve been digging around our website or r...   \n",
       "3  Everyone starts somewhere. Many developers out...   \n",
       "4  Many Codeup alumni enjoy competing in hackatho...   \n",
       "\n",
       "                                             stemmed  \\\n",
       "0  there a lot we can learn about machin and ther...   \n",
       "1  here at codeup we believ it time to revolution...   \n",
       "2  if youv been dig around our websit or research...   \n",
       "3  everyon start somewher mani develop out there ...   \n",
       "4  mani codeup alumni enjoy compet in hackathon a...   \n",
       "\n",
       "                                          lemmatized  \\\n",
       "0  there a lot we can learn about machine and the...   \n",
       "1  here at codeup we believe it time to revolutio...   \n",
       "2  if youve been digging around our website or re...   \n",
       "3  everyone start somewhere many developer out th...   \n",
       "4  many codeup alumnus enjoy competing in hackath...   \n",
       "\n",
       "                                               clean  \\\n",
       "0  there lot learn machine there lot machine lear...   \n",
       "1  codeup believe time revolutionize hiring launc...   \n",
       "2  youve digging around website researching tech ...   \n",
       "3  everyone start somewhere many developer didnt ...   \n",
       "4  many codeup alumnus enjoy competing hackathons...   \n",
       "\n",
       "                                               words  \n",
       "0  [there, lot, learn, machine, there, lot, machi...  \n",
       "1  [codeup, believe, time, revolutionize, hiring,...  \n",
       "2  [youve, digging, around, website, researching,...  \n",
       "3  [everyone, start, somewhere, many, developer, ...  \n",
       "4  [many, codeup, alumnus, enjoy, competing, hack...  "
      ]
     },
     "execution_count": 91,
     "metadata": {},
     "output_type": "execute_result"
    }
   ],
   "source": [
    "# Add a column with list of words\n",
    "words = [re.sub(r'([^a-z0-9\\s]\\s.\\s)', '', doc).split() for doc in df.clean]\n",
    "\n",
    "# column will named words, and the column will contain lists of the words in each doc\n",
    "df = pd.concat([df, pd.DataFrame({'words': words})], axis=1)\n",
    "df.head()"
   ]
  },
  {
   "cell_type": "code",
   "execution_count": 95,
   "metadata": {
    "scrolled": false
   },
   "outputs": [
    {
     "data": {
      "text/html": [
       "<div>\n",
       "<style scoped>\n",
       "    .dataframe tbody tr th:only-of-type {\n",
       "        vertical-align: middle;\n",
       "    }\n",
       "\n",
       "    .dataframe tbody tr th {\n",
       "        vertical-align: top;\n",
       "    }\n",
       "\n",
       "    .dataframe thead th {\n",
       "        text-align: right;\n",
       "    }\n",
       "</style>\n",
       "<table border=\"1\" class=\"dataframe\">\n",
       "  <thead>\n",
       "    <tr style=\"text-align: right;\">\n",
       "      <th></th>\n",
       "      <th>title</th>\n",
       "      <th>original</th>\n",
       "      <th>stemmed</th>\n",
       "      <th>lemmatized</th>\n",
       "      <th>clean</th>\n",
       "      <th>words</th>\n",
       "      <th>bigrams</th>\n",
       "    </tr>\n",
       "  </thead>\n",
       "  <tbody>\n",
       "    <tr>\n",
       "      <th>0</th>\n",
       "      <td>What is Machine Learning?</td>\n",
       "      <td>There’s a lot we can learn about machines, and...</td>\n",
       "      <td>there a lot we can learn about machin and ther...</td>\n",
       "      <td>there a lot we can learn about machine and the...</td>\n",
       "      <td>there lot learn machine there lot machine lear...</td>\n",
       "      <td>[there, lot, learn, machine, there, lot, machi...</td>\n",
       "      <td>[(there, lot), (lot, learn), (learn, machine),...</td>\n",
       "    </tr>\n",
       "    <tr>\n",
       "      <th>1</th>\n",
       "      <td>Introducing Our Salary Refund Guarantee</td>\n",
       "      <td>Here at Codeup, we believe it’s time to revolu...</td>\n",
       "      <td>here at codeup we believ it time to revolution...</td>\n",
       "      <td>here at codeup we believe it time to revolutio...</td>\n",
       "      <td>codeup believe time revolutionize hiring launc...</td>\n",
       "      <td>[codeup, believe, time, revolutionize, hiring,...</td>\n",
       "      <td>[(codeup, believe), (believe, time), (time, re...</td>\n",
       "    </tr>\n",
       "    <tr>\n",
       "      <th>2</th>\n",
       "      <td>What is Python?</td>\n",
       "      <td>If you’ve been digging around our website or r...</td>\n",
       "      <td>if youv been dig around our websit or research...</td>\n",
       "      <td>if youve been digging around our website or re...</td>\n",
       "      <td>youve digging around website researching tech ...</td>\n",
       "      <td>[youve, digging, around, website, researching,...</td>\n",
       "      <td>[(youve, digging), (digging, around), (around,...</td>\n",
       "    </tr>\n",
       "    <tr>\n",
       "      <th>3</th>\n",
       "      <td>Alumni Share their Journey into Web Development</td>\n",
       "      <td>Everyone starts somewhere. Many developers out...</td>\n",
       "      <td>everyon start somewher mani develop out there ...</td>\n",
       "      <td>everyone start somewhere many developer out th...</td>\n",
       "      <td>everyone start somewhere many developer didnt ...</td>\n",
       "      <td>[everyone, start, somewhere, many, developer, ...</td>\n",
       "      <td>[(everyone, start), (start, somewhere), (somew...</td>\n",
       "    </tr>\n",
       "    <tr>\n",
       "      <th>4</th>\n",
       "      <td>Codeup Grads Win CivTech Datathon</td>\n",
       "      <td>Many Codeup alumni enjoy competing in hackatho...</td>\n",
       "      <td>mani codeup alumni enjoy compet in hackathon a...</td>\n",
       "      <td>many codeup alumnus enjoy competing in hackath...</td>\n",
       "      <td>many codeup alumnus enjoy competing hackathons...</td>\n",
       "      <td>[many, codeup, alumnus, enjoy, competing, hack...</td>\n",
       "      <td>[(many, codeup), (codeup, alumnus), (alumnus, ...</td>\n",
       "    </tr>\n",
       "  </tbody>\n",
       "</table>\n",
       "</div>"
      ],
      "text/plain": [
       "                                             title  \\\n",
       "0                        What is Machine Learning?   \n",
       "1          Introducing Our Salary Refund Guarantee   \n",
       "2                                  What is Python?   \n",
       "3  Alumni Share their Journey into Web Development   \n",
       "4                Codeup Grads Win CivTech Datathon   \n",
       "\n",
       "                                            original  \\\n",
       "0  There’s a lot we can learn about machines, and...   \n",
       "1  Here at Codeup, we believe it’s time to revolu...   \n",
       "2  If you’ve been digging around our website or r...   \n",
       "3  Everyone starts somewhere. Many developers out...   \n",
       "4  Many Codeup alumni enjoy competing in hackatho...   \n",
       "\n",
       "                                             stemmed  \\\n",
       "0  there a lot we can learn about machin and ther...   \n",
       "1  here at codeup we believ it time to revolution...   \n",
       "2  if youv been dig around our websit or research...   \n",
       "3  everyon start somewher mani develop out there ...   \n",
       "4  mani codeup alumni enjoy compet in hackathon a...   \n",
       "\n",
       "                                          lemmatized  \\\n",
       "0  there a lot we can learn about machine and the...   \n",
       "1  here at codeup we believe it time to revolutio...   \n",
       "2  if youve been digging around our website or re...   \n",
       "3  everyone start somewhere many developer out th...   \n",
       "4  many codeup alumnus enjoy competing in hackath...   \n",
       "\n",
       "                                               clean  \\\n",
       "0  there lot learn machine there lot machine lear...   \n",
       "1  codeup believe time revolutionize hiring launc...   \n",
       "2  youve digging around website researching tech ...   \n",
       "3  everyone start somewhere many developer didnt ...   \n",
       "4  many codeup alumnus enjoy competing hackathons...   \n",
       "\n",
       "                                               words  \\\n",
       "0  [there, lot, learn, machine, there, lot, machi...   \n",
       "1  [codeup, believe, time, revolutionize, hiring,...   \n",
       "2  [youve, digging, around, website, researching,...   \n",
       "3  [everyone, start, somewhere, many, developer, ...   \n",
       "4  [many, codeup, alumnus, enjoy, competing, hack...   \n",
       "\n",
       "                                             bigrams  \n",
       "0  [(there, lot), (lot, learn), (learn, machine),...  \n",
       "1  [(codeup, believe), (believe, time), (time, re...  \n",
       "2  [(youve, digging), (digging, around), (around,...  \n",
       "3  [(everyone, start), (start, somewhere), (somew...  \n",
       "4  [(many, codeup), (codeup, alumnus), (alumnus, ...  "
      ]
     },
     "execution_count": 95,
     "metadata": {},
     "output_type": "execute_result"
    }
   ],
   "source": [
    "# Use nltk to create a column with bigrams\n",
    "\n",
    "df['bigrams'] = [list(nltk.ngrams(words, 2)) for words in df.words]\n",
    "df.head()"
   ]
  },
  {
   "cell_type": "code",
   "execution_count": 107,
   "metadata": {},
   "outputs": [
    {
     "data": {
      "text/plain": [
       "(practice,)    8\n",
       "(prework,)     6\n",
       "(student,)     6\n",
       "(time,)        6\n",
       "(learning,)    5\n",
       "dtype: int64"
      ]
     },
     "execution_count": 107,
     "metadata": {},
     "output_type": "execute_result"
    }
   ],
   "source": [
    "# Create the top 20 most frequent words for the 'how to succeed' dataset\n",
    "\n",
    "advice = pd.Series(list(nltk.ngrams(df.words[12], 1))).value_counts().head(20)\n",
    "advice.head()"
   ]
  },
  {
   "cell_type": "code",
   "execution_count": 109,
   "metadata": {},
   "outputs": [
    {
     "data": {
      "image/png": "[encoded data removed]",
      "text/plain": [
       "<Figure size 432x288 with 1 Axes>"
      ]
     },
     "metadata": {
      "needs_background": "light"
     },
     "output_type": "display_data"
    }
   ],
   "source": [
    "# Visualize the top 20 most frequent bigrams for spam and ham datasets\n",
    "\n",
    "advice.plot.barh(title='20 most frequenctly occurring how_to_succeed monogram',\n",
    "                 xlabel='Frequency', ylabel='Monogram')\n",
    "\n",
    "plt.tight_layout()\n",
    "plt.show()"
   ]
  },
  {
   "cell_type": "code",
   "execution_count": 115,
   "metadata": {},
   "outputs": [
    {
     "data": {
      "text/plain": [
       "{'practice': 8,\n",
       " 'prework': 6,\n",
       " 'student': 6,\n",
       " 'time': 6,\n",
       " 'learning': 5,\n",
       " 'way': 5,\n",
       " 'practicing': 5,\n",
       " 'problem': 5,\n",
       " 'something': 5,\n",
       " 'fernando': 5,\n",
       " 'youre': 5,\n",
       " 'help': 5,\n",
       " 'failure': 5,\n",
       " 'instead': 4,\n",
       " 'error': 4,\n",
       " 'like': 4,\n",
       " 'coding': 4,\n",
       " 'bootcamp': 4,\n",
       " 'work': 4,\n",
       " 'douglas': 4}"
      ]
     },
     "execution_count": 115,
     "metadata": {},
     "output_type": "execute_result"
    }
   ],
   "source": [
    "# Convert to dictionary to fit to the 'generate_from_frequencies' method\n",
    "\n",
    "advice_dict = {k[0]: v for k, v in advice.to_dict().items()}\n",
    "advice_dict"
   ]
  },
  {
   "cell_type": "code",
   "execution_count": 117,
   "metadata": {},
   "outputs": [
    {
     "data": {
      "image/png": "[encoded data removed]",
      "text/plain": [
       "<Figure size 432x288 with 1 Axes>"
      ]
     },
     "metadata": {
      "needs_background": "light"
     },
     "output_type": "display_data"
    }
   ],
   "source": [
    "# Create a WordCloud object for the bigrams\n",
    "\n",
    "img_advice = WordCloud(background_color = 'white', \n",
    "                       width=800, height=400).generate_from_frequencies(advice_dict)\n",
    "\n",
    "plt.imshow(img_advice)\n",
    "plt.axis('off')\n",
    "plt.show()"
   ]
  },
  {
   "cell_type": "markdown",
   "metadata": {},
   "source": [
    "### 3. Explore the news articles using the techniques discussed in the exploration lesson. Use the category variable when exploring."
   ]
  },
  {
   "cell_type": "code",
   "execution_count": null,
   "metadata": {},
   "outputs": [],
   "source": []
  }
 ],
 "metadata": {
  "kernelspec": {
   "display_name": "Python 3",
   "language": "python",
   "name": "python3"
  },
  "language_info": {
   "codemirror_mode": {
    "name": "ipython",
    "version": 3
   },
   "file_extension": ".py",
   "mimetype": "text/x-python",
   "name": "python",
   "nbconvert_exporter": "python",
   "pygments_lexer": "ipython3",
   "version": "3.7.6"
  }
 },
 "nbformat": 4,
 "nbformat_minor": 4
}
